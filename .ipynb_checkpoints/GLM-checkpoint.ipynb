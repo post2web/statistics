{
 "cells": [
  {
   "cell_type": "code",
   "execution_count": 2,
   "metadata": {
    "collapsed": true
   },
   "outputs": [],
   "source": [
    "%matplotlib inline\n",
    "from scipy import stats\n",
    "import numpy as np\n",
    "import pandas as pd\n",
    "import statsmodels.formula.api as smf\n",
    "import statsmodels.api as sm\n",
    "from statsmodels.stats.anova import anova_lm\n",
    "from IPython.core.display import HTML\n",
    "\n",
    "plt.rcParams['figure.figsize'] = [15, 10]"
   ]
  },
  {
   "cell_type": "markdown",
   "metadata": {},
   "source": [
    "### GLM\n",
    "The generalized linear model (GLM) is a flexible generalization of ordinary linear regression that allows for response variables that have error distribution models other than a normal distribution."
   ]
  },
  {
   "cell_type": "code",
   "execution_count": 4,
   "metadata": {
    "scrolled": false
   },
   "outputs": [
    {
     "name": "stderr",
     "output_type": "stream",
     "text": [
      "/usr/local/lib/python3.5/dist-packages/statsmodels/genmod/generalized_linear_model.py:244: DomainWarning: The inverse_power link function does not respect the domain of the Gamma family.\n",
      "  DomainWarning)\n"
     ]
    },
    {
     "data": {
      "text/html": [
       "<table class=\"simpletable\">\n",
       "<caption>Generalized Linear Model Regression Results</caption>\n",
       "<tr>\n",
       "  <th>Dep. Variable:</th>          <td>y</td>        <th>  No. Observations:  </th>      <td>    32</td>     \n",
       "</tr>\n",
       "<tr>\n",
       "  <th>Model:</th>                 <td>GLM</td>       <th>  Df Residuals:      </th>      <td>    24</td>     \n",
       "</tr>\n",
       "<tr>\n",
       "  <th>Model Family:</th>         <td>Gamma</td>      <th>  Df Model:          </th>      <td>     7</td>     \n",
       "</tr>\n",
       "<tr>\n",
       "  <th>Link Function:</th>    <td>inverse_power</td>  <th>  Scale:             </th> <td>0.00358428317349</td>\n",
       "</tr>\n",
       "<tr>\n",
       "  <th>Method:</th>               <td>IRLS</td>       <th>  Log-Likelihood:    </th>     <td> -83.017</td>    \n",
       "</tr>\n",
       "<tr>\n",
       "  <th>Date:</th>           <td>Fri, 21 Apr 2017</td> <th>  Deviance:          </th>     <td>0.087389</td>    \n",
       "</tr>\n",
       "<tr>\n",
       "  <th>Time:</th>               <td>19:43:46</td>     <th>  Pearson chi2:      </th>      <td>0.0860</td>     \n",
       "</tr>\n",
       "<tr>\n",
       "  <th>No. Iterations:</th>         <td>4</td>        <th>                     </th>         <td> </td>       \n",
       "</tr>\n",
       "</table>\n",
       "<table class=\"simpletable\">\n",
       "<tr>\n",
       "    <td></td>       <th>coef</th>     <th>std err</th>      <th>z</th>      <th>P>|z|</th>  <th>[0.025</th>    <th>0.975]</th>  \n",
       "</tr>\n",
       "<tr>\n",
       "  <th>const</th> <td>   -0.0178</td> <td>    0.011</td> <td>   -1.548</td> <td> 0.122</td> <td>   -0.040</td> <td>    0.005</td>\n",
       "</tr>\n",
       "<tr>\n",
       "  <th>x1</th>    <td> 4.962e-05</td> <td> 1.62e-05</td> <td>    3.060</td> <td> 0.002</td> <td> 1.78e-05</td> <td> 8.14e-05</td>\n",
       "</tr>\n",
       "<tr>\n",
       "  <th>x2</th>    <td>    0.0020</td> <td>    0.001</td> <td>    3.824</td> <td> 0.000</td> <td>    0.001</td> <td>    0.003</td>\n",
       "</tr>\n",
       "<tr>\n",
       "  <th>x3</th>    <td>-7.181e-05</td> <td> 2.71e-05</td> <td>   -2.648</td> <td> 0.008</td> <td>   -0.000</td> <td>-1.87e-05</td>\n",
       "</tr>\n",
       "<tr>\n",
       "  <th>x4</th>    <td>    0.0001</td> <td> 4.06e-05</td> <td>    2.757</td> <td> 0.006</td> <td> 3.23e-05</td> <td>    0.000</td>\n",
       "</tr>\n",
       "<tr>\n",
       "  <th>x5</th>    <td>-1.468e-07</td> <td> 1.24e-07</td> <td>   -1.187</td> <td> 0.235</td> <td>-3.89e-07</td> <td> 9.56e-08</td>\n",
       "</tr>\n",
       "<tr>\n",
       "  <th>x6</th>    <td>   -0.0005</td> <td>    0.000</td> <td>   -2.159</td> <td> 0.031</td> <td>   -0.001</td> <td>-4.78e-05</td>\n",
       "</tr>\n",
       "<tr>\n",
       "  <th>x7</th>    <td>-2.427e-06</td> <td> 7.46e-07</td> <td>   -3.253</td> <td> 0.001</td> <td>-3.89e-06</td> <td>-9.65e-07</td>\n",
       "</tr>\n",
       "</table>"
      ],
      "text/plain": [
       "<class 'statsmodels.iolib.summary.Summary'>\n",
       "\"\"\"\n",
       "                 Generalized Linear Model Regression Results                  \n",
       "==============================================================================\n",
       "Dep. Variable:                      y   No. Observations:                   32\n",
       "Model:                            GLM   Df Residuals:                       24\n",
       "Model Family:                   Gamma   Df Model:                            7\n",
       "Link Function:          inverse_power   Scale:                0.00358428317349\n",
       "Method:                          IRLS   Log-Likelihood:                -83.017\n",
       "Date:                Fri, 21 Apr 2017   Deviance:                     0.087389\n",
       "Time:                        19:43:46   Pearson chi2:                   0.0860\n",
       "No. Iterations:                     4                                         \n",
       "==============================================================================\n",
       "                 coef    std err          z      P>|z|      [0.025      0.975]\n",
       "------------------------------------------------------------------------------\n",
       "const         -0.0178      0.011     -1.548      0.122      -0.040       0.005\n",
       "x1          4.962e-05   1.62e-05      3.060      0.002    1.78e-05    8.14e-05\n",
       "x2             0.0020      0.001      3.824      0.000       0.001       0.003\n",
       "x3         -7.181e-05   2.71e-05     -2.648      0.008      -0.000   -1.87e-05\n",
       "x4             0.0001   4.06e-05      2.757      0.006    3.23e-05       0.000\n",
       "x5         -1.468e-07   1.24e-07     -1.187      0.235   -3.89e-07    9.56e-08\n",
       "x6            -0.0005      0.000     -2.159      0.031      -0.001   -4.78e-05\n",
       "x7         -2.427e-06   7.46e-07     -3.253      0.001   -3.89e-06   -9.65e-07\n",
       "==============================================================================\n",
       "\"\"\""
      ]
     },
     "execution_count": 4,
     "metadata": {},
     "output_type": "execute_result"
    }
   ],
   "source": [
    "data = sm.datasets.scotland.load()\n",
    "data.exog = sm.add_constant(data.exog)\n",
    "\n",
    "# Instantiate a gamma family model with the default link function.\n",
    "gamma_model = sm.GLM(data.endog, data.exog, family=sm.families.Gamma()).fit()\n",
    "gamma_model.summary()"
   ]
  }
 ],
 "metadata": {
  "kernelspec": {
   "display_name": "Python 3",
   "language": "python",
   "name": "python3"
  },
  "language_info": {
   "codemirror_mode": {
    "name": "ipython",
    "version": 3
   },
   "file_extension": ".py",
   "mimetype": "text/x-python",
   "name": "python",
   "nbconvert_exporter": "python",
   "pygments_lexer": "ipython3",
   "version": "3.5.2"
  }
 },
 "nbformat": 4,
 "nbformat_minor": 2
}
