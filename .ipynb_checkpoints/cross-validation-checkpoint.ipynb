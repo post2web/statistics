{
 "cells": [
  {
   "cell_type": "code",
   "execution_count": 1,
   "metadata": {},
   "outputs": [],
   "source": [
    "%matplotlib inline\n",
    "import pandas as pd\n",
    "import numpy as np\n",
    "import matplotlib.pyplot as plt\n",
    "from seaborn.apionly import load_dataset\n",
    "import statsmodels.formula.api as smf\n",
    "\n",
    "from sklearn.model_selection import KFold, LeaveOneOut, train_test_split\n",
    "from sklearn import metrics"
   ]
  },
  {
   "cell_type": "markdown",
   "metadata": {},
   "source": [
    "## Load the data"
   ]
  },
  {
   "cell_type": "code",
   "execution_count": 2,
   "metadata": {},
   "outputs": [
    {
     "data": {
      "text/html": [
       "<div>\n",
       "<table border=\"1\" class=\"dataframe\">\n",
       "  <thead>\n",
       "    <tr style=\"text-align: right;\">\n",
       "      <th></th>\n",
       "      <th>total</th>\n",
       "      <th>speeding</th>\n",
       "      <th>alcohol</th>\n",
       "      <th>not_distracted</th>\n",
       "      <th>no_previous</th>\n",
       "      <th>ins_premium</th>\n",
       "      <th>ins_losses</th>\n",
       "      <th>abbrev</th>\n",
       "    </tr>\n",
       "  </thead>\n",
       "  <tbody>\n",
       "    <tr>\n",
       "      <th>0</th>\n",
       "      <td>18.8</td>\n",
       "      <td>7.332</td>\n",
       "      <td>5.640</td>\n",
       "      <td>18.048</td>\n",
       "      <td>15.040</td>\n",
       "      <td>784.55</td>\n",
       "      <td>145.08</td>\n",
       "      <td>AL</td>\n",
       "    </tr>\n",
       "    <tr>\n",
       "      <th>1</th>\n",
       "      <td>18.1</td>\n",
       "      <td>7.421</td>\n",
       "      <td>4.525</td>\n",
       "      <td>16.290</td>\n",
       "      <td>17.014</td>\n",
       "      <td>1053.48</td>\n",
       "      <td>133.93</td>\n",
       "      <td>AK</td>\n",
       "    </tr>\n",
       "    <tr>\n",
       "      <th>2</th>\n",
       "      <td>18.6</td>\n",
       "      <td>6.510</td>\n",
       "      <td>5.208</td>\n",
       "      <td>15.624</td>\n",
       "      <td>17.856</td>\n",
       "      <td>899.47</td>\n",
       "      <td>110.35</td>\n",
       "      <td>AZ</td>\n",
       "    </tr>\n",
       "  </tbody>\n",
       "</table>\n",
       "</div>"
      ],
      "text/plain": [
       "   total  speeding  alcohol  not_distracted  no_previous  ins_premium  \\\n",
       "0   18.8     7.332    5.640          18.048       15.040       784.55   \n",
       "1   18.1     7.421    4.525          16.290       17.014      1053.48   \n",
       "2   18.6     6.510    5.208          15.624       17.856       899.47   \n",
       "\n",
       "   ins_losses abbrev  \n",
       "0      145.08     AL  \n",
       "1      133.93     AK  \n",
       "2      110.35     AZ  "
      ]
     },
     "execution_count": 2,
     "metadata": {},
     "output_type": "execute_result"
    }
   ],
   "source": [
    "data = load_dataset('car_crashes')\n",
    "data.head(3)"
   ]
  },
  {
   "cell_type": "markdown",
   "metadata": {},
   "source": [
    "## Train test split\n",
    "Splits in this case two thirds for train and one third for test"
   ]
  },
  {
   "cell_type": "code",
   "execution_count": 3,
   "metadata": {},
   "outputs": [
    {
     "data": {
      "text/plain": [
       "5.0588109320862964"
      ]
     },
     "execution_count": 3,
     "metadata": {},
     "output_type": "execute_result"
    }
   ],
   "source": [
    "scores = []\n",
    "n_splits = 5\n",
    "for _ in range(n_splits):\n",
    "    train, test = train_test_split(data, test_size=.33)\n",
    "    model = smf.ols(\"total ~ speeding + alcohol\", train).fit()\n",
    "    y_pred = model.predict(test)\n",
    "    #score = metrics.r2_score(y_true=test['total'], y_pred=y_pred)\n",
    "    score = metrics.mean_squared_error(y_true=test['total'], y_pred=y_pred)\n",
    "    scores.append(score)\n",
    "np.array(scores).mean()"
   ]
  },
  {
   "cell_type": "markdown",
   "metadata": {},
   "source": [
    "## Leave one out"
   ]
  },
  {
   "cell_type": "code",
   "execution_count": 4,
   "metadata": {},
   "outputs": [
    {
     "data": {
      "text/plain": [
       "5.1594090109870132"
      ]
     },
     "execution_count": 4,
     "metadata": {},
     "output_type": "execute_result"
    }
   ],
   "source": [
    "loo = LeaveOneOut()\n",
    "for train_index, test_index in loo.split(data):\n",
    "    train, test = data.iloc[train_index], data.iloc[test_index]\n",
    "    model = smf.ols(\"total ~ speeding + alcohol\", train).fit()\n",
    "    y_pred = model.predict(test)\n",
    "    #score = metrics.r2_score(y_true=test['total'], y_pred=y_pred)\n",
    "    score = metrics.mean_squared_error(y_true=test['total'], y_pred=y_pred)\n",
    "    scores.append(score)\n",
    "np.array(scores).mean()"
   ]
  },
  {
   "cell_type": "markdown",
   "metadata": {},
   "source": [
    "## K-Folds cross-validator"
   ]
  },
  {
   "cell_type": "code",
   "execution_count": 5,
   "metadata": {},
   "outputs": [
    {
     "data": {
      "text/plain": [
       "5.1691041576354095"
      ]
     },
     "execution_count": 5,
     "metadata": {},
     "output_type": "execute_result"
    }
   ],
   "source": [
    "kf = KFold(n_splits=5)\n",
    "for train_index, test_index in kf.split(data):\n",
    "    train, test = data.iloc[train_index], data.iloc[test_index]\n",
    "    model = smf.ols(\"total ~ speeding + alcohol\", train).fit()\n",
    "    y_pred = model.predict(test)\n",
    "    #score = metrics.r2_score(y_true=test['total'], y_pred=y_pred)\n",
    "    score = metrics.mean_squared_error(y_true=test['total'], y_pred=y_pred)\n",
    "    scores.append(score)\n",
    "np.array(scores).mean()"
   ]
  },
  {
   "cell_type": "markdown",
   "metadata": {},
   "source": [
    "## Functions for feature selection\n",
    "Because of formulas like: \"total ~ speeding + alcohol\" are hard to work with for feature selection will use the regual sm api without formula and will transform the categorical features to dummy vecotr"
   ]
  },
  {
   "cell_type": "code",
   "execution_count": 6,
   "metadata": {},
   "outputs": [
    {
     "data": {
      "text/html": [
       "<div>\n",
       "<table border=\"1\" class=\"dataframe\">\n",
       "  <thead>\n",
       "    <tr style=\"text-align: right;\">\n",
       "      <th></th>\n",
       "      <th>total_bill</th>\n",
       "      <th>sex</th>\n",
       "      <th>smoker</th>\n",
       "      <th>day</th>\n",
       "      <th>time</th>\n",
       "      <th>size</th>\n",
       "    </tr>\n",
       "  </thead>\n",
       "  <tbody>\n",
       "    <tr>\n",
       "      <th>0</th>\n",
       "      <td>16.99</td>\n",
       "      <td>Female</td>\n",
       "      <td>No</td>\n",
       "      <td>Sun</td>\n",
       "      <td>Dinner</td>\n",
       "      <td>2</td>\n",
       "    </tr>\n",
       "    <tr>\n",
       "      <th>1</th>\n",
       "      <td>10.34</td>\n",
       "      <td>Male</td>\n",
       "      <td>No</td>\n",
       "      <td>Sun</td>\n",
       "      <td>Dinner</td>\n",
       "      <td>3</td>\n",
       "    </tr>\n",
       "    <tr>\n",
       "      <th>2</th>\n",
       "      <td>21.01</td>\n",
       "      <td>Male</td>\n",
       "      <td>No</td>\n",
       "      <td>Sun</td>\n",
       "      <td>Dinner</td>\n",
       "      <td>3</td>\n",
       "    </tr>\n",
       "    <tr>\n",
       "      <th>3</th>\n",
       "      <td>23.68</td>\n",
       "      <td>Male</td>\n",
       "      <td>No</td>\n",
       "      <td>Sun</td>\n",
       "      <td>Dinner</td>\n",
       "      <td>2</td>\n",
       "    </tr>\n",
       "    <tr>\n",
       "      <th>4</th>\n",
       "      <td>24.59</td>\n",
       "      <td>Female</td>\n",
       "      <td>No</td>\n",
       "      <td>Sun</td>\n",
       "      <td>Dinner</td>\n",
       "      <td>4</td>\n",
       "    </tr>\n",
       "  </tbody>\n",
       "</table>\n",
       "</div>"
      ],
      "text/plain": [
       "   total_bill     sex smoker  day    time  size\n",
       "0       16.99  Female     No  Sun  Dinner     2\n",
       "1       10.34    Male     No  Sun  Dinner     3\n",
       "2       21.01    Male     No  Sun  Dinner     3\n",
       "3       23.68    Male     No  Sun  Dinner     2\n",
       "4       24.59  Female     No  Sun  Dinner     4"
      ]
     },
     "execution_count": 6,
     "metadata": {},
     "output_type": "execute_result"
    }
   ],
   "source": [
    "data = load_dataset('tips')\n",
    "targets = data['tip']\n",
    "del data['tip']\n",
    "data.head()"
   ]
  },
  {
   "cell_type": "code",
   "execution_count": 7,
   "metadata": {},
   "outputs": [],
   "source": [
    "import statsmodels.api as sm\n",
    "\n",
    "categorical_columns = data.columns[data.dtypes=='category']\n",
    "\n",
    "features = {}\n",
    "for column in data.columns:\n",
    "    if column in categorical_columns:\n",
    "        features[column] = pd.get_dummies(data[[column]]).astype(np.float32)\n",
    "    else:\n",
    "        features[column] = data[[column]].astype(np.float32)"
   ]
  },
  {
   "cell_type": "markdown",
   "metadata": {},
   "source": [
    "## Here is a regression with all the features"
   ]
  },
  {
   "cell_type": "code",
   "execution_count": 8,
   "metadata": {},
   "outputs": [
    {
     "data": {
      "text/html": [
       "<table class=\"simpletable\">\n",
       "<caption>OLS Regression Results</caption>\n",
       "<tr>\n",
       "  <th>Dep. Variable:</th>           <td>tip</td>       <th>  R-squared:         </th> <td>   0.470</td>\n",
       "</tr>\n",
       "<tr>\n",
       "  <th>Model:</th>                   <td>OLS</td>       <th>  Adj. R-squared:    </th> <td>   0.452</td>\n",
       "</tr>\n",
       "<tr>\n",
       "  <th>Method:</th>             <td>Least Squares</td>  <th>  F-statistic:       </th> <td>   26.06</td>\n",
       "</tr>\n",
       "<tr>\n",
       "  <th>Date:</th>             <td>Thu, 27 Apr 2017</td> <th>  Prob (F-statistic):</th> <td>1.20e-28</td>\n",
       "</tr>\n",
       "<tr>\n",
       "  <th>Time:</th>                 <td>15:44:01</td>     <th>  Log-Likelihood:    </th> <td> -347.48</td>\n",
       "</tr>\n",
       "<tr>\n",
       "  <th>No. Observations:</th>      <td>   244</td>      <th>  AIC:               </th> <td>   713.0</td>\n",
       "</tr>\n",
       "<tr>\n",
       "  <th>Df Residuals:</th>          <td>   235</td>      <th>  BIC:               </th> <td>   744.4</td>\n",
       "</tr>\n",
       "<tr>\n",
       "  <th>Df Model:</th>              <td>     8</td>      <th>                     </th>     <td> </td>   \n",
       "</tr>\n",
       "<tr>\n",
       "  <th>Covariance Type:</th>      <td>nonrobust</td>    <th>                     </th>     <td> </td>   \n",
       "</tr>\n",
       "</table>\n",
       "<table class=\"simpletable\">\n",
       "<tr>\n",
       "       <td></td>          <th>coef</th>     <th>std err</th>      <th>t</th>      <th>P>|t|</th>  <th>[0.025</th>    <th>0.975]</th>  \n",
       "</tr>\n",
       "<tr>\n",
       "  <th>size</th>        <td>    0.1760</td> <td>    0.090</td> <td>    1.966</td> <td> 0.051</td> <td>   -0.000</td> <td>    0.352</td>\n",
       "</tr>\n",
       "<tr>\n",
       "  <th>time_Lunch</th>  <td>    0.1615</td> <td>    0.237</td> <td>    0.682</td> <td> 0.496</td> <td>   -0.305</td> <td>    0.628</td>\n",
       "</tr>\n",
       "<tr>\n",
       "  <th>time_Dinner</th> <td>    0.0934</td> <td>    0.214</td> <td>    0.437</td> <td> 0.662</td> <td>   -0.328</td> <td>    0.514</td>\n",
       "</tr>\n",
       "<tr>\n",
       "  <th>total_bill</th>  <td>    0.0945</td> <td>    0.010</td> <td>    9.841</td> <td> 0.000</td> <td>    0.076</td> <td>    0.113</td>\n",
       "</tr>\n",
       "<tr>\n",
       "  <th>day_Thur</th>    <td>   -0.0212</td> <td>    0.308</td> <td>   -0.069</td> <td> 0.945</td> <td>   -0.627</td> <td>    0.585</td>\n",
       "</tr>\n",
       "<tr>\n",
       "  <th>day_Fri</th>     <td>    0.1410</td> <td>    0.194</td> <td>    0.727</td> <td> 0.468</td> <td>   -0.241</td> <td>    0.523</td>\n",
       "</tr>\n",
       "<tr>\n",
       "  <th>day_Sat</th>     <td>    0.0196</td> <td>    0.191</td> <td>    0.103</td> <td> 0.918</td> <td>   -0.356</td> <td>    0.395</td>\n",
       "</tr>\n",
       "<tr>\n",
       "  <th>day_Sun</th>     <td>    0.1156</td> <td>    0.198</td> <td>    0.584</td> <td> 0.560</td> <td>   -0.274</td> <td>    0.506</td>\n",
       "</tr>\n",
       "<tr>\n",
       "  <th>sex_Male</th>    <td>    0.1113</td> <td>    0.080</td> <td>    1.392</td> <td> 0.165</td> <td>   -0.046</td> <td>    0.269</td>\n",
       "</tr>\n",
       "<tr>\n",
       "  <th>sex_Female</th>  <td>    0.1437</td> <td>    0.081</td> <td>    1.779</td> <td> 0.076</td> <td>   -0.015</td> <td>    0.303</td>\n",
       "</tr>\n",
       "<tr>\n",
       "  <th>smoker_Yes</th>  <td>    0.0843</td> <td>    0.082</td> <td>    1.026</td> <td> 0.306</td> <td>   -0.078</td> <td>    0.246</td>\n",
       "</tr>\n",
       "<tr>\n",
       "  <th>smoker_No</th>   <td>    0.1707</td> <td>    0.083</td> <td>    2.058</td> <td> 0.041</td> <td>    0.007</td> <td>    0.334</td>\n",
       "</tr>\n",
       "<tr>\n",
       "  <th>intercept</th>   <td>    0.2550</td> <td>    0.076</td> <td>    3.356</td> <td> 0.001</td> <td>    0.105</td> <td>    0.405</td>\n",
       "</tr>\n",
       "</table>\n",
       "<table class=\"simpletable\">\n",
       "<tr>\n",
       "  <th>Omnibus:</th>       <td>27.860</td> <th>  Durbin-Watson:     </th> <td>   2.096</td>\n",
       "</tr>\n",
       "<tr>\n",
       "  <th>Prob(Omnibus):</th> <td> 0.000</td> <th>  Jarque-Bera (JB):  </th> <td>  52.555</td>\n",
       "</tr>\n",
       "<tr>\n",
       "  <th>Skew:</th>          <td> 0.607</td> <th>  Prob(JB):          </th> <td>3.87e-12</td>\n",
       "</tr>\n",
       "<tr>\n",
       "  <th>Kurtosis:</th>      <td> 4.923</td> <th>  Cond. No.          </th> <td>3.35e+17</td>\n",
       "</tr>\n",
       "</table>"
      ],
      "text/plain": [
       "<class 'statsmodels.iolib.summary.Summary'>\n",
       "\"\"\"\n",
       "                            OLS Regression Results                            \n",
       "==============================================================================\n",
       "Dep. Variable:                    tip   R-squared:                       0.470\n",
       "Model:                            OLS   Adj. R-squared:                  0.452\n",
       "Method:                 Least Squares   F-statistic:                     26.06\n",
       "Date:                Thu, 27 Apr 2017   Prob (F-statistic):           1.20e-28\n",
       "Time:                        15:44:01   Log-Likelihood:                -347.48\n",
       "No. Observations:                 244   AIC:                             713.0\n",
       "Df Residuals:                     235   BIC:                             744.4\n",
       "Df Model:                           8                                         \n",
       "Covariance Type:            nonrobust                                         \n",
       "===============================================================================\n",
       "                  coef    std err          t      P>|t|      [0.025      0.975]\n",
       "-------------------------------------------------------------------------------\n",
       "size            0.1760      0.090      1.966      0.051      -0.000       0.352\n",
       "time_Lunch      0.1615      0.237      0.682      0.496      -0.305       0.628\n",
       "time_Dinner     0.0934      0.214      0.437      0.662      -0.328       0.514\n",
       "total_bill      0.0945      0.010      9.841      0.000       0.076       0.113\n",
       "day_Thur       -0.0212      0.308     -0.069      0.945      -0.627       0.585\n",
       "day_Fri         0.1410      0.194      0.727      0.468      -0.241       0.523\n",
       "day_Sat         0.0196      0.191      0.103      0.918      -0.356       0.395\n",
       "day_Sun         0.1156      0.198      0.584      0.560      -0.274       0.506\n",
       "sex_Male        0.1113      0.080      1.392      0.165      -0.046       0.269\n",
       "sex_Female      0.1437      0.081      1.779      0.076      -0.015       0.303\n",
       "smoker_Yes      0.0843      0.082      1.026      0.306      -0.078       0.246\n",
       "smoker_No       0.1707      0.083      2.058      0.041       0.007       0.334\n",
       "intercept       0.2550      0.076      3.356      0.001       0.105       0.405\n",
       "==============================================================================\n",
       "Omnibus:                       27.860   Durbin-Watson:                   2.096\n",
       "Prob(Omnibus):                  0.000   Jarque-Bera (JB):               52.555\n",
       "Skew:                           0.607   Prob(JB):                     3.87e-12\n",
       "Kurtosis:                       4.923   Cond. No.                     3.35e+17\n",
       "==============================================================================\n",
       "\n",
       "Warnings:\n",
       "[1] Standard Errors assume that the covariance matrix of the errors is correctly specified.\n",
       "[2] The smallest eigenvalue is 1.05e-30. This might indicate that there are\n",
       "strong multicollinearity problems or that the design matrix is singular.\n",
       "\"\"\""
      ]
     },
     "execution_count": 8,
     "metadata": {},
     "output_type": "execute_result"
    }
   ],
   "source": [
    "x = pd.concat(features.values(), axis=1)\n",
    "x['intercept'] = 1\n",
    "model = sm.OLS(targets, x).fit()\n",
    "model.summary()"
   ]
  },
  {
   "cell_type": "code",
   "execution_count": 13,
   "metadata": {
    "collapsed": true
   },
   "outputs": [],
   "source": [
    "# Bigger is better\n",
    "def score_fn(features, targets=targets, n_splits=20):\n",
    "    if not len(features): return -np.inf\n",
    "    scores = []\n",
    "    X = pd.concat(features.values(), axis=1)\n",
    "    assert X.index.equals(targets.index)\n",
    "    X['intercept'] = 1\n",
    "    \n",
    "    for _ in range(n_splits):\n",
    "        train_index, test_index = train_test_split(X.index, test_size=.33)\n",
    "\n",
    "        X_train, y_train = X.loc[train_index], targets.loc[train_index]\n",
    "        X_test, y_true = X.loc[test_index], targets.loc[test_index]\n",
    "\n",
    "        model = sm.OLS(y_train, X_train).fit()\n",
    "        \n",
    "        y_pred = model.predict(X_test)\n",
    "        score = metrics.r2_score(y_true=y_true, y_pred=y_pred)\n",
    "        scores.append(score)\n",
    "    return np.array(scores).mean()\n",
    "\n",
    "\n",
    "def forward_step(selected_features, test_features, targets, score_fn):\n",
    "    max_score = score_fn(selected_features)\n",
    "    max_score_feature = None\n",
    "    for feature in test_features.keys():\n",
    "        score_features = {**selected_features, **dict(feature=test_features[feature])}\n",
    "        new_score = score_fn(score_features, targets=targets)\n",
    "        if new_score > max_score:\n",
    "            max_score = new_score\n",
    "            max_score_feature = feature\n",
    "    return max_score_feature\n",
    "    \n",
    "def forward_feature_selection(features, targets=targets, score_fn=score_fn):\n",
    "    test_features = features.copy()\n",
    "    selected_features = {}\n",
    "    while True:\n",
    "        add_key = forward_step(selected_features, test_features, targets, score_fn)\n",
    "        if add_key is None:\n",
    "            return selected_features\n",
    "        else:\n",
    "            del test_features[add_key]\n",
    "            selected_features[add_key] = features[add_key]\n",
    "\n",
    "def backward_step(features, targets, score_fn):\n",
    "    max_score = score_fn(features)\n",
    "    max_score_feature = None\n",
    "    for feature in features.keys():\n",
    "        test_features = features.copy()\n",
    "        del test_features[feature]\n",
    "        new_score = score_fn(test_features)\n",
    "        if new_score >= max_score:\n",
    "            max_score = new_score\n",
    "            max_score_feature = feature\n",
    "    return max_score_feature\n",
    "\n",
    "def backward_feature_selection(features, targets=targets, score_fn=score_fn):\n",
    "    selected_features = features.copy()\n",
    "    while True:\n",
    "        remove_feature = backward_step(selected_features, targets, score_fn)\n",
    "        if remove_feature is None:\n",
    "            return selected_features\n",
    "        else:\n",
    "            del selected_features[remove_feature]\n",
    "\n",
    "def stepwise_feature_selection(features, targets=targets, score_fn=score_fn):\n",
    "    test_features = features.copy()\n",
    "    selected_features = {}\n",
    "    while True:\n",
    "        # forward step\n",
    "        add_feature = forward_step(selected_features, test_features, targets, score_fn)\n",
    "        if add_feature is not None:\n",
    "            selected_features[add_feature] = test_features[add_feature]\n",
    "            del test_features[add_feature]\n",
    "        # backward step\n",
    "        remove_feature = backward_step(selected_features, targets, score_fn)\n",
    "        if remove_feature is not None:\n",
    "            test_features[remove_feature] = selected_features[remove_feature]\n",
    "            del selected_features[remove_feature]\n",
    "        # nothing more to do, just return\n",
    "        if add_feature is None and remove_feature is None:\n",
    "            return selected_features"
   ]
  },
  {
   "cell_type": "code",
   "execution_count": 10,
   "metadata": {
    "scrolled": false
   },
   "outputs": [
    {
     "name": "stdout",
     "output_type": "stream",
     "text": [
      "Final cross-validated score: 0.429700080737\n"
     ]
    },
    {
     "data": {
      "text/plain": [
       "dict_keys(['time', 'total_bill', 'day'])"
      ]
     },
     "execution_count": 10,
     "metadata": {},
     "output_type": "execute_result"
    }
   ],
   "source": [
    "selected_features = forward_feature_selection(features, targets=targets, score_fn=score_fn)\n",
    "print('Final cross-validated score:', score_fn(selected_features))\n",
    "selected_features.keys()"
   ]
  },
  {
   "cell_type": "code",
   "execution_count": 11,
   "metadata": {},
   "outputs": [
    {
     "name": "stdout",
     "output_type": "stream",
     "text": [
      "Final cross-validated score: 0.443424953038\n"
     ]
    },
    {
     "data": {
      "text/plain": [
       "dict_keys(['total_bill', 'smoker'])"
      ]
     },
     "execution_count": 11,
     "metadata": {},
     "output_type": "execute_result"
    }
   ],
   "source": [
    "selected_features = backward_feature_selection(features, targets=targets, score_fn=score_fn)\n",
    "print('Final cross-validated score:', score_fn(selected_features))\n",
    "selected_features.keys()"
   ]
  },
  {
   "cell_type": "code",
   "execution_count": 12,
   "metadata": {
    "scrolled": true
   },
   "outputs": [
    {
     "name": "stdout",
     "output_type": "stream",
     "text": [
      "Final cross-validated score: 0.429951960977\n"
     ]
    },
    {
     "data": {
      "text/plain": [
       "dict_keys(['total_bill'])"
      ]
     },
     "execution_count": 12,
     "metadata": {},
     "output_type": "execute_result"
    }
   ],
   "source": [
    "selected_features = stepwise_feature_selection(features, targets=targets, score_fn=score_fn)\n",
    "print('Final cross-validated score:', score_fn(selected_features))\n",
    "selected_features.keys()"
   ]
  }
 ],
 "metadata": {
  "kernelspec": {
   "display_name": "Python 3",
   "language": "python",
   "name": "python3"
  },
  "language_info": {
   "codemirror_mode": {
    "name": "ipython",
    "version": 3
   },
   "file_extension": ".py",
   "mimetype": "text/x-python",
   "name": "python",
   "nbconvert_exporter": "python",
   "pygments_lexer": "ipython3",
   "version": "3.5.2"
  }
 },
 "nbformat": 4,
 "nbformat_minor": 2
}
