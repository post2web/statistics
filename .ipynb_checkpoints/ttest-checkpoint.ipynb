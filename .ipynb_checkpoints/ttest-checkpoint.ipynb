{
 "cells": [
  {
   "cell_type": "code",
   "execution_count": 2,
   "metadata": {
    "collapsed": true
   },
   "outputs": [],
   "source": [
    "%matplotlib inline\n",
    "from scipy import stats\n",
    "\n",
    "import plotly.plotly as py\n",
    "import plotly.figure_factory as ff\n",
    "import plotly.graph_objs as go"
   ]
  },
  {
   "cell_type": "markdown",
   "metadata": {},
   "source": [
    "# 1-sample t-test\n",
    "A one-sample t-test tests whether the true population mean is different then a number. P-value shows the probability that the population mean equals the number."
   ]
  },
  {
   "cell_type": "code",
   "execution_count": 3,
   "metadata": {
    "scrolled": true
   },
   "outputs": [
    {
     "name": "stdout",
     "output_type": "stream",
     "text": [
      "mean: 177.96 std: 3.66430226798\n",
      "test statisic:  0.828476018556\n",
      "pvalue of the two sided t-test: 0.428823629411\n",
      "pvalue of the upper sided t-test: 0.214411814705\n",
      "pvalue of the lower sided t-test: 0.785588185295\n"
     ]
    }
   ],
   "source": [
    "x = np.array([177.3, 182.7, 169.6, 176.3, 180.3, 179.4, 178.5, 177.2, 181.8, 176.5])\n",
    "print('mean:', x.mean(), 'std:', x.std(ddof=1))\n",
    "# Ho: μ = 177\n",
    "checkValue = 177.0\n",
    "tstat, pvalue = stats.ttest_1samp(x, checkValue)\n",
    "print('test statisic: ', tstat)\n",
    "print('pvalue of the two sided t-test:', pvalue)\n",
    "if x.mean() > checkValue:\n",
    "    upper_pvalue = pvalue / 2\n",
    "    lower_pvalue = 1 - upper_pvalue\n",
    "else:\n",
    "    lower_pvalue = pvalue / 2\n",
    "    upper_pvalue = 1 - lower_pvalue\n",
    "    \n",
    "print('pvalue of the upper sided t-test:', upper_pvalue)\n",
    "print('pvalue of the lower sided t-test:', lower_pvalue)"
   ]
  },
  {
   "cell_type": "markdown",
   "metadata": {},
   "source": [
    "## Confidence Interval for mean"
   ]
  },
  {
   "cell_type": "code",
   "execution_count": 4,
   "metadata": {},
   "outputs": [
    {
     "name": "stdout",
     "output_type": "stream",
     "text": [
      "with unknow σ, population mean with 95 confidence is in Interval: (180.58128393289599, 175.33871606710403)\n"
     ]
    }
   ],
   "source": [
    "n = len(x)\n",
    "df = n - 1\n",
    "# two sided 95% = .05 / 2\n",
    "t = stats.t.ppf(.025, df)\n",
    "std = np.std(x, ddof=1)\n",
    "E =  t * std / np.sqrt(n)\n",
    "\n",
    "inerval = (x.mean() - E, x.mean() + E)\n",
    "print('with unknow σ, population mean with 95 confidence is in Interval:', inerval)"
   ]
  },
  {
   "cell_type": "code",
   "execution_count": 9,
   "metadata": {},
   "outputs": [
    {
     "data": {
      "text/html": [
       "<iframe id=\"igraph\" scrolling=\"no\" style=\"border:none;\" seamless=\"seamless\" src=\"https://plot.ly/~ivelin/2.embed\" height=\"525px\" width=\"100%\"></iframe>"
      ],
      "text/plain": [
       "<plotly.tools.PlotlyDisplay object>"
      ]
     },
     "execution_count": 9,
     "metadata": {},
     "output_type": "execute_result"
    }
   ],
   "source": [
    "xs = np.arange(start=-4, stop=4, step=.01)\n",
    "ys = stats.norm.pdf(xs)\n",
    "\n",
    "lines = go.Scatter(x=xs, y=ys)\n",
    "fill = go.Scatter(x=xs, y=ys * (np.abs(xs) > 2).astype(int), fill='tozeroy',)\n",
    "\n",
    "data = go.Data([lines, fill])\n",
    "py.iplot(data)"
   ]
  },
  {
   "cell_type": "code",
   "execution_count": null,
   "metadata": {
    "collapsed": true
   },
   "outputs": [],
   "source": [
    "go.Line"
   ]
  },
  {
   "cell_type": "code",
   "execution_count": 111,
   "metadata": {},
   "outputs": [
    {
     "data": {
      "text/html": [
       "<iframe id=\"igraph\" scrolling=\"no\" style=\"border:none;\" seamless=\"seamless\" src=\"https://plot.ly/~post2web/52.embed\" height=\"525px\" width=\"100%\"></iframe>"
      ],
      "text/plain": [
       "<plotly.tools.PlotlyDisplay object>"
      ]
     },
     "execution_count": 111,
     "metadata": {},
     "output_type": "execute_result"
    }
   ],
   "source": [
    "fig = ff.create_distplot([x], ['x'])\n",
    "fig['layout'].update(title='Distribution of x')\n",
    "line = {'type': 'line', 'x0': checkValue, 'y0': 0, 'x1': checkValue, 'y1': .25}\n",
    "fig['layout'].update(shapes=[line])\n",
    "py.iplot(fig)"
   ]
  },
  {
   "cell_type": "code",
   "execution_count": 119,
   "metadata": {},
   "outputs": [
    {
     "data": {
      "text/html": [
       "<iframe id=\"igraph\" scrolling=\"no\" style=\"border:none;\" seamless=\"seamless\" src=\"https://plot.ly/~post2web/58.embed\" height=\"525px\" width=\"100%\"></iframe>"
      ],
      "text/plain": [
       "<plotly.tools.PlotlyDisplay object>"
      ]
     },
     "execution_count": 119,
     "metadata": {},
     "output_type": "execute_result"
    }
   ],
   "source": [
    "py.iplot([go.Box(y=x)])"
   ]
  },
  {
   "cell_type": "markdown",
   "metadata": {},
   "source": [
    "## Wilcoxon Signed Rank Sum Test\n",
    "If the data is not normally distributed"
   ]
  },
  {
   "cell_type": "code",
   "execution_count": 35,
   "metadata": {},
   "outputs": [
    {
     "name": "stdout",
     "output_type": "stream",
     "text": [
      "test statisic:  17.0\n",
      "pvalue of the t-test: 0.284502697911\n"
     ]
    }
   ],
   "source": [
    "checkValue = 177.0\n",
    "tstat, pvalue = stats.wilcoxon(np.array(x)-checkValue)\n",
    "print('test statisic: ', tstat)\n",
    "print('pvalue of the t-test:', pvalue)"
   ]
  },
  {
   "cell_type": "markdown",
   "metadata": {},
   "source": [
    "## Unpaired 2-sample t-test"
   ]
  },
  {
   "cell_type": "code",
   "execution_count": 36,
   "metadata": {
    "scrolled": true
   },
   "outputs": [
    {
     "name": "stdout",
     "output_type": "stream",
     "text": [
      "mean a 59.3875 mean b 74.1\n",
      "\n",
      "pooled std\n",
      "test statisic:  -3.58752154254\n",
      "pvalue of the t-test: 0.00297115145528\n",
      "The probability that the two distributions have equal means is  0.00297115145528\n",
      "\n",
      "Welch’s t-test, which does not assume equal population variance.\n",
      "test statisic:  -3.58752154254\n",
      "pvalue of the t-test: 0.00366705074373\n",
      "The probability that the two distributions have equal means is  0.00366705074373\n"
     ]
    }
   ],
   "source": [
    "a = [63.8, 56.4, 55.2, 58.5, 64.0, 51.6, 54.6, 71.0]\n",
    "b = [75.5, 83.9, 75.7, 72.5, 56.2, 73.4, 67.7, 87.9]\n",
    "print('mean a', np.mean(a), 'mean b', np.mean(b))\n",
    "print()\n",
    "print('pooled std')\n",
    "tstat, pvalue = stats.ttest_ind(a, b)\n",
    "print('test statisic: ', tstat)\n",
    "print('pvalue of the t-test:', pvalue)\n",
    "print('The probability that the two distributions have equal means is ', pvalue)\n",
    "print()\n",
    "print('Welch’s t-test, which does not assume equal population variance.')\n",
    "tstat, pvalue = stats.ttest_ind(a, b, equal_var=False)\n",
    "print('test statisic: ', tstat)\n",
    "print('pvalue of the t-test:', pvalue)\n",
    "print('The probability that the two distributions have equal means is ', pvalue)"
   ]
  },
  {
   "cell_type": "markdown",
   "metadata": {},
   "source": [
    "## Confidence intervals for t-test"
   ]
  },
  {
   "cell_type": "code",
   "execution_count": 43,
   "metadata": {},
   "outputs": [
    {
     "name": "stdout",
     "output_type": "stream",
     "text": [
      "(-23.508314539874313, -5.9166854601256968)\n"
     ]
    }
   ],
   "source": [
    "from statsmodels.stats.weightstats import CompareMeans, DescrStatsW\n",
    "\n",
    "cm = CompareMeans(DescrStatsW(a), DescrStatsW(b))\n",
    "print (cm.tconfint_diff(alpha=0.05, alternative='two-sided', usevar='pooled'))"
   ]
  },
  {
   "cell_type": "markdown",
   "metadata": {},
   "source": [
    "## Unpaired 2-sample non parametric test"
   ]
  },
  {
   "cell_type": "code",
   "execution_count": 31,
   "metadata": {},
   "outputs": [
    {
     "name": "stdout",
     "output_type": "stream",
     "text": [
      "test statisic:  6.0\n",
      "pvalue of the t-test: 0.00370276667025\n"
     ]
    }
   ],
   "source": [
    "a = [63.8, 56.4, 55.2, 58.5, 64.0, 51.6, 54.6, 71.0]\n",
    "b = [75.5, 83.9, 75.7, 72.5, 56.2, 73.4, 67.7, 87.9]\n",
    "\n",
    "tstat, pvalue = stats.mannwhitneyu(a, b)\n",
    "print('test statisic: ', tstat)\n",
    "print('pvalue of the t-test:', pvalue)"
   ]
  },
  {
   "cell_type": "code",
   "execution_count": 32,
   "metadata": {},
   "outputs": [
    {
     "name": "stdout",
     "output_type": "stream",
     "text": [
      "test statisic:  7.45588235294\n",
      "pvalue of the t-test: 0.00632294769581\n"
     ]
    }
   ],
   "source": [
    "\n",
    "a = [63.8, 56.4, 55.2, 58.5, 64.0, 51.6, 54.6, 71.0]\n",
    "b = [75.5, 83.9, 75.7, 72.5, 56.2, 73.4, 67.7, 87.9]\n",
    "\n",
    "tstat, pvalue = stats.mstats.kruskalwallis(a, b)\n",
    "print('test statisic: ', tstat)\n",
    "print('pvalue of the t-test:', pvalue)"
   ]
  },
  {
   "cell_type": "markdown",
   "metadata": {},
   "source": [
    "## Paired t-test"
   ]
  },
  {
   "cell_type": "code",
   "execution_count": 33,
   "metadata": {},
   "outputs": [
    {
     "name": "stdout",
     "output_type": "stream",
     "text": [
      "test statisic:  3.66811665194\n",
      "pvalue of the t-test: 0.00632665085593\n",
      "test statisic:  3.66811665194\n",
      "pvalue of the t-test: 0.00632665085593\n"
     ]
    }
   ],
   "source": [
    "a = [67.2, 67.4, 71.5, 77.6, 86.0, 89.1, 59.5, 81.9, 105.5]\n",
    "b = [62.4, 64.6, 70.4, 62.6, 80.1, 73.2, 58.2, 71.0, 101.0]\n",
    "\n",
    "tstat, pvalue = stats.ttest_rel(a, b)\n",
    "print('test statisic: ', tstat)\n",
    "print('pvalue of the t-test:', pvalue)\n",
    "\n",
    "# this is same as:\n",
    "x = np.array(a) - np.array(b)\n",
    "tstat, pvalue = stats.ttest_1samp(x, 0)\n",
    "print('test statisic: ', tstat)\n",
    "print('pvalue of the t-test:', pvalue)"
   ]
  },
  {
   "cell_type": "markdown",
   "metadata": {},
   "source": [
    "Confidence interval for a <b>single draw</b> from a normal distribution with mean mu and std deviation sigma"
   ]
  },
  {
   "cell_type": "code",
   "execution_count": 42,
   "metadata": {},
   "outputs": [
    {
     "data": {
      "text/plain": [
       "(6.0800720309198919, 13.919927969080108)"
      ]
     },
     "execution_count": 42,
     "metadata": {},
     "output_type": "execute_result"
    }
   ],
   "source": [
    "mu = 10\n",
    "sigma = 2\n",
    "stats.norm.interval(0.95, loc=mu, scale=sigma)"
   ]
  },
  {
   "cell_type": "markdown",
   "metadata": {},
   "source": [
    "Confidence interval for the <b>mean of N draws</b> from a normal distribution with mean mu and std deviation sigma"
   ]
  },
  {
   "cell_type": "code",
   "execution_count": 41,
   "metadata": {},
   "outputs": [
    {
     "data": {
      "text/plain": [
       "(9.1234774594234178, 10.876522540576582)"
      ]
     },
     "execution_count": 41,
     "metadata": {},
     "output_type": "execute_result"
    }
   ],
   "source": [
    "mu = 10\n",
    "sigma = 2\n",
    "N = 20\n",
    "stats.norm.interval(0.95, loc=mu, scale=sigma/np.sqrt(N))"
   ]
  },
  {
   "cell_type": "code",
   "execution_count": 105,
   "metadata": {},
   "outputs": [
    {
     "data": {
      "text/plain": [
       "<matplotlib.text.Text at 0x7f7124c5c860>"
      ]
     },
     "execution_count": 105,
     "metadata": {},
     "output_type": "execute_result"
    },
    {
     "data": {
      "image/png": "[encoded data removed]",
      "text/plain": [
       "<matplotlib.figure.Figure at 0x7f7124ce1d30>"
      ]
     },
     "metadata": {},
     "output_type": "display_data"
    }
   ],
   "source": [
    "\n",
    "plt.figure(figsize=(12,10))\n",
    "\n",
    "plt.fill_between(x=np.arange(-4,-2,0.01), \n",
    "                 y1= stats.norm.pdf(np.arange(-4,-2,0.01)) ,\n",
    "                 facecolor='red',\n",
    "                 alpha=0.35)\n",
    "\n",
    "plt.fill_between(x=np.arange(-2,2,0.01), \n",
    "                 y1= stats.norm.pdf(np.arange(-2,2,0.01)) ,\n",
    "                 facecolor='white',\n",
    "                 alpha=0.35)\n",
    "\n",
    "plt.fill_between(x=np.arange(2,4,0.01), \n",
    "                 y1= stats.norm.pdf(np.arange(2,4,0.01)) ,\n",
    "                 facecolor='red',\n",
    "                 alpha=0.5)\n",
    "\n",
    "plt.fill_between(x=np.arange(-4,-2,0.01), \n",
    "                 y1= stats.norm.pdf(np.arange(-4,-2,0.01),loc=3, scale=2) ,\n",
    "                 facecolor='white',\n",
    "                 alpha=0.35)\n",
    "\n",
    "plt.fill_between(x=np.arange(-2,2,0.01), \n",
    "                 y1= stats.norm.pdf(np.arange(-2,2,0.01),loc=3, scale=2) ,\n",
    "                 facecolor='blue',\n",
    "                 alpha=0.35)\n",
    "\n",
    "plt.fill_between(x=np.arange(2,10,0.01), \n",
    "                 y1= stats.norm.pdf(np.arange(2,10,0.01),loc=3, scale=2),\n",
    "                 facecolor='white',\n",
    "                 alpha=0.35)\n",
    "\n",
    "plt.text(x=-0.8, y=0.15, s= \"Null Hypothesis\")\n",
    "plt.text(x=2.5, y=0.13, s= \"Alternative\")\n",
    "plt.text(x=2.1, y=0.01, s= \"Type 1 Error\")\n",
    "plt.text(x=-3.2, y=0.01, s= \"Type 1 Error\")\n",
    "plt.text(x=0, y=0.02, s= \"Type 2 Error\")\n"
   ]
  },
  {
   "cell_type": "markdown",
   "metadata": {},
   "source": [
    "Because the one-sided tests can be backed out from the two-sided tests. (With symmetric distributions one-sided p-value is just half of the two-sided pvalue)\n",
    "It goes on to say that scipy always gives the test statistic as signed. This means that given p and t values from a two-tailed test, you would reject the null hypothesis of a greater-than test when p/2 < alpha and t > 0, and of a less-than test when p/2 < alpha and t < 0."
   ]
  },
  {
   "cell_type": "code",
   "execution_count": 6,
   "metadata": {
    "collapsed": true
   },
   "outputs": [],
   "source": [
    "from scipy import stats\n",
    "stats.norm.interval()"
   ]
  },
  {
   "cell_type": "code",
   "execution_count": 9,
   "metadata": {
    "collapsed": true
   },
   "outputs": [],
   "source": [
    "fired = np.array('34 37 37 38 41 42 43 44 44 45 45 45 46 48 49 53 53 54 54 55 56'.split()).astype(np.int32)\n",
    "nonfired = np.array('27 33 36 37 38 38 39 42 42 43 43 44 44 44 45 45 45 45 46 46 47 47 48 48 49 49 51 51 52 54'.split()).astype(np.int32)\n"
   ]
  },
  {
   "cell_type": "code",
   "execution_count": 13,
   "metadata": {
    "collapsed": true
   },
   "outputs": [],
   "source": [
    "import plotly.plotly as py"
   ]
  },
  {
   "cell_type": "code",
   "execution_count": 10,
   "metadata": {},
   "outputs": [
    {
     "data": {
      "text/html": [
       "<iframe id=\"igraph\" scrolling=\"no\" style=\"border:none;\" seamless=\"seamless\" src=\"https://plot.ly/~post2web/6.embed\" height=\"380px\" width=\"100%\"></iframe>"
      ],
      "text/plain": [
       "<plotly.tools.PlotlyDisplay object>"
      ]
     },
     "execution_count": 10,
     "metadata": {},
     "output_type": "execute_result"
    }
   ],
   "source": [
    "import plotly.plotly as py\n",
    "import plotly.figure_factory as ff\n",
    "import pandas as pd\n",
    "\n",
    "df = pd.DataFrame(list(range(10)))\n",
    "\n",
    "table = ff.create_table(df)\n",
    "py.iplot(table)"
   ]
  }
 ],
 "metadata": {
  "kernelspec": {
   "display_name": "Python 3",
   "language": "python",
   "name": "python3"
  },
  "language_info": {
   "codemirror_mode": {
    "name": "ipython",
    "version": 3
   },
   "file_extension": ".py",
   "mimetype": "text/x-python",
   "name": "python",
   "nbconvert_exporter": "python",
   "pygments_lexer": "ipython3",
   "version": "3.5.2"
  }
 },
 "nbformat": 4,
 "nbformat_minor": 2
}
