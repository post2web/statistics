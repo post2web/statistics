{
 "cells": [
  {
   "cell_type": "code",
   "execution_count": 2,
   "metadata": {
    "collapsed": true
   },
   "outputs": [],
   "source": [
    "%matplotlib inline\n",
    "from scipy import stats"
   ]
  },
  {
   "cell_type": "markdown",
   "metadata": {},
   "source": [
    "Because the one-sided tests can be backed out from the two-sided tests. (With symmetric distributions one-sided p-value is just half of the two-sided pvalue)\n",
    "It goes on to say that scipy always gives the test statistic as signed. This means that given p and t values from a two-tailed test, you would reject the null hypothesis of a greater-than test when p/2 < alpha and t > 0, and of a less-than test when p/2 < alpha and t < 0."
   ]
  },
  {
   "cell_type": "markdown",
   "metadata": {},
   "source": [
    "# Parametric\n",
    "* they are tests for mens unless log transformed\n",
    "* if data is log transformed then you test medians\n",
    "* If you have normality and/or large samples that aren’t “too weird”, you should use a Parametric test.\n",
    "* What qualifies as “too weird”?\n",
    "    * Really bad outliers or strong skewness\n",
    "    * When you don’t know all the data values completely\n",
    "        * Censored data: e.g. Cognitive Load Experiment (4.1.2 in Statistical Sleuth)\n",
    "        * Only know whether data is above or below a certain value: e.g. if subjects were asked whether they felt better, worse or the same after taking a medication.\n"
   ]
  },
  {
   "cell_type": "markdown",
   "metadata": {},
   "source": [
    "# 1-sample t-test\n",
    "* tests whether the true population mean is different then a number.\n",
    "* If you have normality and/or large samples that aren’t “too weird”, you should use a t-test.\n",
    "* P-value shows the probability that the population mean equals the number."
   ]
  },
  {
   "cell_type": "code",
   "execution_count": 64,
   "metadata": {},
   "outputs": [
    {
     "name": "stdout",
     "output_type": "stream",
     "text": [
      "mean: 177.96 std: 3.66430226798\n",
      "test statisic:  0.828476018556\n",
      "p-value (two sided): 0.428823629411\n",
      "p-value (upper sided): 0.214411814705\n",
      "p-value (lower sided): 0.785588185295\n"
     ]
    }
   ],
   "source": [
    "x = np.array([177.3, 182.7, 169.6, 176.3, 180.3, 179.4, 178.5, 177.2, 181.8, 176.5])\n",
    "print('mean:', x.mean(), 'std:', x.std(ddof=1))\n",
    "# Ho: μ = 177\n",
    "checkValue = 177.0\n",
    "tstat, pvalue = stats.ttest_1samp(x, checkValue)\n",
    "print('test statisic: ', tstat)\n",
    "print('p-value (two sided):', pvalue)\n",
    "if x.mean() > checkValue:\n",
    "    upper_pvalue = pvalue / 2\n",
    "    lower_pvalue = 1 - upper_pvalue\n",
    "else:\n",
    "    lower_pvalue = pvalue / 2\n",
    "    upper_pvalue = 1 - lower_pvalue\n",
    "    \n",
    "print('p-value (upper sided):', upper_pvalue)\n",
    "print('p-value (lower sided):', lower_pvalue)"
   ]
  },
  {
   "cell_type": "markdown",
   "metadata": {},
   "source": [
    "### Play with the result"
   ]
  },
  {
   "cell_type": "code",
   "execution_count": 71,
   "metadata": {},
   "outputs": [
    {
     "data": {
      "text/plain": [
       "2.0095752344892088"
      ]
     },
     "execution_count": 71,
     "metadata": {},
     "output_type": "execute_result"
    }
   ],
   "source": [
    "\n",
    "stats.t.ppf(q=0.975,  # Quantile to check\n",
    "            df=49)  # Degrees of freedom"
   ]
  },
  {
   "cell_type": "code",
   "execution_count": 76,
   "metadata": {},
   "outputs": [],
   "source": [
    "df = 20\n",
    "x = np.linspace(stats.t.ppf(0.01, df), stats.t.ppf(0.99, df), 100)"
   ]
  },
  {
   "cell_type": "markdown",
   "metadata": {},
   "source": [
    "## Confidence Interval for mean"
   ]
  },
  {
   "cell_type": "code",
   "execution_count": 4,
   "metadata": {},
   "outputs": [
    {
     "name": "stdout",
     "output_type": "stream",
     "text": [
      "with unknow σ, population mean with 95 confidence is in Interval: (180.58128393289599, 175.33871606710403)\n"
     ]
    }
   ],
   "source": [
    "n = len(x)\n",
    "df = n - 1\n",
    "# two sided 95% = .05 / 2\n",
    "t = stats.t.ppf(.025, df)\n",
    "std = np.std(x, ddof=1)\n",
    "E =  t * std / np.sqrt(n)\n",
    "\n",
    "inerval = (x.mean() - E, x.mean() + E)\n",
    "print('with unknow σ, population mean with 95 confidence is in Interval:', inerval)"
   ]
  },
  {
   "cell_type": "markdown",
   "metadata": {},
   "source": [
    "## Draw and shade"
   ]
  },
  {
   "cell_type": "code",
   "execution_count": 39,
   "metadata": {
    "scrolled": true
   },
   "outputs": [
    {
     "data": {
      "text/plain": [
       "<matplotlib.collections.PolyCollection at 0x7fab4f3b8400>"
      ]
     },
     "execution_count": 39,
     "metadata": {},
     "output_type": "execute_result"
    },
    {
     "data": {
      "image/png": "[encoded data removed]",
      "text/plain": [
       "<matplotlib.figure.Figure at 0x7fab4f3b8128>"
      ]
     },
     "metadata": {},
     "output_type": "display_data"
    }
   ],
   "source": [
    "x = np.arange(start=-4, stop=4, step=.01)\n",
    "y = stats.norm.pdf(x)\n",
    "\n",
    "plt.scatter(x, y)\n",
    "plt.fill_between(x=x, y1=0, y2=y * (np.abs(x) > tstat).astype(int))"
   ]
  },
  {
   "cell_type": "markdown",
   "metadata": {},
   "source": [
    "## Paired t-test"
   ]
  },
  {
   "cell_type": "code",
   "execution_count": 44,
   "metadata": {},
   "outputs": [
    {
     "name": "stdout",
     "output_type": "stream",
     "text": [
      "test statisic:  3.66811665194\n",
      "pvalue (two sided): 0.00632665085593\n"
     ]
    }
   ],
   "source": [
    "a = [67.2, 67.4, 71.5, 77.6, 86.0, 89.1, 59.5, 81.9, 105.5]\n",
    "b = [62.4, 64.6, 70.4, 62.6, 80.1, 73.2, 58.2, 71.0, 101.0]\n",
    "\n",
    "# use the difference and then same as once sample:\n",
    "x = np.array(a) - np.array(b)\n",
    "tstat, pvalue = stats.ttest_1samp(x, 0)\n",
    "print('test statisic: ', tstat)\n",
    "print('pvalue (two sided):', pvalue)"
   ]
  },
  {
   "cell_type": "markdown",
   "metadata": {},
   "source": [
    "# Non Parametric - Wilcoxon Signed Rank Sum Test\n",
    "\n",
    "* Good to use if you have outliers that can’t be “fixed” by a log transform\n",
    "* Good to use if you have data points that you know are the greatest or least, but don’t have accurate measurements for\n",
    "* Ignores magnitude and only looks at order, making data equally spaced\n",
    "* Tests for difference in medians"
   ]
  },
  {
   "cell_type": "code",
   "execution_count": 49,
   "metadata": {
    "scrolled": true
   },
   "outputs": [
    {
     "name": "stdout",
     "output_type": "stream",
     "text": [
      "test statisic:  17.0\n",
      "p-value (two sided): 0.284502697911\n",
      "p-value (upper sided): 0.142251348956\n",
      "p-value (lower sided): 0.857748651044\n"
     ]
    }
   ],
   "source": [
    "x = np.array([177.3, 182.7, 169.6, 176.3, 180.3, 179.4, 178.5, 177.2, 181.8, 176.5])\n",
    "checkValue = 177.0\n",
    "tstat, pvalue = stats.wilcoxon(np.array(x)-checkValue)\n",
    "print('test statisic: ', tstat)\n",
    "print('p-value (two sided):', pvalue)\n",
    "if x.mean() > checkValue:\n",
    "    upper_pvalue = pvalue / 2\n",
    "    lower_pvalue = 1 - upper_pvalue\n",
    "else:\n",
    "    lower_pvalue = pvalue / 2\n",
    "    upper_pvalue = 1 - lower_pvalue\n",
    "print('p-value (upper sided):', upper_pvalue)\n",
    "print('p-value (lower sided):', lower_pvalue)"
   ]
  },
  {
   "cell_type": "markdown",
   "metadata": {},
   "source": [
    "## Sign test\n",
    "* Works well when all you have is whether your data (or difference!) is greater than, less than, or equal to 0\n"
   ]
  },
  {
   "cell_type": "code",
   "execution_count": 63,
   "metadata": {},
   "outputs": [
    {
     "name": "stdout",
     "output_type": "stream",
     "text": [
      "test statisic:  3.5\n",
      "pvalue: 0.0390625\n"
     ]
    }
   ],
   "source": [
    "from statsmodels.stats.descriptivestats import sign_test\n",
    "\n",
    "a = np.array([67.2, 67.4, 71.5, 77.6, 86.0, 89.1, 59.5, 81.9, 105.5])\n",
    "b = np.array([68.4, 64.6, 70.4, 62.6, 80.1, 73.2, 58.2, 71.0, 101.0])\n",
    "x = a - b\n",
    "\n",
    "tstat, pvalue = sign_test(x)\n",
    "print('test statisic: ', tstat)\n",
    "print('pvalue:', pvalue)"
   ]
  }
 ],
 "metadata": {
  "kernelspec": {
   "display_name": "Python 3",
   "language": "python",
   "name": "python3"
  },
  "language_info": {
   "codemirror_mode": {
    "name": "ipython",
    "version": 3
   },
   "file_extension": ".py",
   "mimetype": "text/x-python",
   "name": "python",
   "nbconvert_exporter": "python",
   "pygments_lexer": "ipython3",
   "version": "3.5.2"
  }
 },
 "nbformat": 4,
 "nbformat_minor": 2
}
