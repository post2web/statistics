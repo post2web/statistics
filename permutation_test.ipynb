{
 "cells": [
  {
   "cell_type": "code",
   "execution_count": 1,
   "metadata": {
    "collapsed": true
   },
   "outputs": [],
   "source": [
    "import numpy as np\n",
    "from scipy import stats\n",
    "import pandas as pd"
   ]
  },
  {
   "cell_type": "markdown",
   "metadata": {},
   "source": [
    "# Permutation Test\n",
    "\n",
    "* is nonparametric statistics\n",
    "* you can test anything with it\n"
   ]
  },
  {
   "cell_type": "markdown",
   "metadata": {},
   "source": [
    "## In this example we test if two groups have different means"
   ]
  },
  {
   "cell_type": "code",
   "execution_count": 2,
   "metadata": {},
   "outputs": [
    {
     "data": {
      "text/plain": [
       "0.00366"
      ]
     },
     "execution_count": 2,
     "metadata": {},
     "output_type": "execute_result"
    }
   ],
   "source": [
    "s1 = np.array([63.8, 56.4, 55.2, 58.5, 64.0, 51.6, 54.6, 71.0])\n",
    "s2 = np.array([75.5, 83.9, 75.7, 72.5, 56.2, 73.4, 67.7, 87.9])\n",
    "\n",
    "# obsorved difference\n",
    "delta = abs(s1.mean() - s2.mean())\n",
    "\n",
    "pooled = np.hstack([s1, s2])\n",
    "\n",
    "n_permutations = 1000000\n",
    "extreme_count = 0\n",
    "\n",
    "for _ in range(n_permutations):\n",
    "    # just to get the same result\n",
    "    #np.random.seed(1)\n",
    "    pooled = np.random.permutation(pooled)\n",
    "    diff = abs(pooled[:len(s1)].mean() - pooled[len(s2):].mean())\n",
    "    # count how many are more extreme then the obsorved difference\n",
    "    if diff >= delta:\n",
    "        extreme_count += 1\n",
    "\n",
    "# calculate the p-value\n",
    "pvalue = extreme_count / n_permutations\n",
    "pvalue"
   ]
  },
  {
   "cell_type": "markdown",
   "metadata": {},
   "source": [
    "## Vectorized version\n",
    "This method is faster. The calculation of permutation is split on memory chunks."
   ]
  },
  {
   "cell_type": "code",
   "execution_count": 89,
   "metadata": {
    "scrolled": true
   },
   "outputs": [
    {
     "data": {
      "text/plain": [
       "0.0038158683129125249"
      ]
     },
     "execution_count": 89,
     "metadata": {},
     "output_type": "execute_result"
    }
   ],
   "source": [
    "import math\n",
    "\n",
    "s1 = np.array([63.8, 56.4, 55.2, 58.5, 64.0, 51.6, 54.6, 71.0])\n",
    "s2 = np.array([75.5, 83.9, 75.7, 72.5, 56.2, 73.4, 67.7, 87.9])\n",
    "\n",
    "n_permutations = 10000000\n",
    "\n",
    "block_bytes = 298435456 # quarter of a gigabyte\n",
    "\n",
    "\n",
    "# obsorved difference\n",
    "delta = abs(s1.mean() - s2.mean())\n",
    "\n",
    "pooled = np.hstack([s1, s2]).astype(np.float32)\n",
    "\n",
    "\n",
    "bytes_per_float = np.float64(0).nbytes\n",
    "permutations_per_block = block_bytes // (bytes_per_float * len(pooled))\n",
    "if permutations_per_block > n_permutations:\n",
    "    permutations_per_block = n_permutations\n",
    "\n",
    "n_blocks = (bytes_per_float * len(pooled) * n_permutations) / block_bytes\n",
    "n_blocks = math.ceil(n_blocks)\n",
    "\n",
    "extreme_count = 0\n",
    "n_permutations = 0\n",
    "for _ in range(n_blocks):\n",
    "    matrix = pd.DataFrame(np.random.rand(permutations_per_block, len(pooled)))\n",
    "    matrix = matrix.rank(axis=1, method='first').astype(np.int64) - 1\n",
    "    matrix = pooled[matrix]\n",
    "\n",
    "    # the calculations\n",
    "    # this could be replaced with median, std or other\n",
    "    diff = matrix[:,:len(s1)].mean(axis=1) - matrix[:,len(s1):].mean(axis=1)\n",
    "    extreme_count += (np.abs(diff) > delta).sum()\n",
    "    n_permutations += permutations_per_block\n",
    "# calculate the p-value\n",
    "pvalue = extreme_count / n_permutations\n",
    "pvalue"
   ]
  },
  {
   "cell_type": "markdown",
   "metadata": {},
   "source": [
    "Same with t-test"
   ]
  },
  {
   "cell_type": "code",
   "execution_count": 88,
   "metadata": {},
   "outputs": [
    {
     "name": "stdout",
     "output_type": "stream",
     "text": [
      "test statisic:  -3.58752154254\n",
      "pvalue: 0.00297115145528\n",
      "The probability that the two distributions have equal means is  0.00297115145528\n"
     ]
    }
   ],
   "source": [
    "tstat, pvalue = stats.ttest_ind(s1, s2)\n",
    "print('test statisic: ', tstat)\n",
    "print('pvalue:', pvalue)\n",
    "print('The probability that the two distributions have equal means is ', pvalue)"
   ]
  }
 ],
 "metadata": {
  "kernelspec": {
   "display_name": "Python 3",
   "language": "python",
   "name": "python3"
  },
  "language_info": {
   "codemirror_mode": {
    "name": "ipython",
    "version": 3
   },
   "file_extension": ".py",
   "mimetype": "text/x-python",
   "name": "python",
   "nbconvert_exporter": "python",
   "pygments_lexer": "ipython3",
   "version": "3.5.2"
  }
 },
 "nbformat": 4,
 "nbformat_minor": 2
}
