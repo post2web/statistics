{
 "cells": [
  {
   "cell_type": "markdown",
   "metadata": {},
   "source": [
    "# Permutation Test\n",
    "\n",
    "Permutation tests are a group of nonparametric statistics. Here we use a permutation test to test the null hypothesis that two different groups come from the same distribution. The notation and examples shown here are borrowed from Efron and Tibshirani’s An Introduction to the Bootstrap [1]. \n",
    "\n",
    "---\n",
    "\n",
    "Our specific problem is that we observe two groups of data and we are interested in testing the null hypothesis that they have same means\n",
    "\n",
    "* credits: http://www2.stat.duke.edu/~ar182/rr/examples-gallery/PermutationTest.html"
   ]
  },
  {
   "cell_type": "code",
   "execution_count": 1,
   "metadata": {
    "collapsed": true
   },
   "outputs": [],
   "source": [
    "import numpy as np\n",
    "z = np.array([94,197,16,38,99,141,23])\n",
    "y = np.array([52,104,146,10,51,30,40,27,46])"
   ]
  },
  {
   "cell_type": "code",
   "execution_count": 2,
   "metadata": {},
   "outputs": [
    {
     "data": {
      "text/plain": [
       "30.63492063492064"
      ]
     },
     "execution_count": 2,
     "metadata": {},
     "output_type": "execute_result"
    }
   ],
   "source": [
    "theta_hat = z.mean() - y.mean()\n",
    "theta_hat"
   ]
  },
  {
   "cell_type": "code",
   "execution_count": 3,
   "metadata": {
    "collapsed": true
   },
   "outputs": [],
   "source": [
    "def run_permutation_test(pooled, sizeZ, sizeY):\n",
    "    np.random.shuffle(pooled)\n",
    "    starZ = pooled[:sizeZ]\n",
    "    starY = pooled[-sizeY:]\n",
    "    return starZ.mean() - starY.mean()\n"
   ]
  },
  {
   "cell_type": "code",
   "execution_count": 13,
   "metadata": {},
   "outputs": [
    {
     "data": {
      "text/plain": [
       "0.030309999999999948"
      ]
     },
     "execution_count": 13,
     "metadata": {},
     "output_type": "execute_result"
    }
   ],
   "source": [
    "pooled = np.hstack([z,y])\n",
    "delta = z.mean() - y.mean()\n",
    "\n",
    "numSamples = 100000\n",
    "diffCount = 0\n",
    "\n",
    "for _ in range(numSamples):\n",
    "    # just to get the same result\n",
    "    np.random.seed(1)\n",
    "    pooled = np.random.permutation(pooled)\n",
    "\n",
    "    gr1 = pooled[:len(z)]\n",
    "    gr2 = pooled[len(z):]\n",
    "\n",
    "    estimate = gr1.mean() - gr2.mean()\n",
    "    if estimate <= delta:\n",
    "        diffCount += 1\n",
    "\n",
    "\n",
    "hat_asl_perm = 1.0 - diffCount / numSamples\n",
    "hat_asl_perm"
   ]
  },
  {
   "cell_type": "markdown",
   "metadata": {},
   "source": [
    "In this case pvalue = 03 and we reject the null hypothesis."
   ]
  }
 ],
 "metadata": {
  "kernelspec": {
   "display_name": "Python 3",
   "language": "python",
   "name": "python3"
  },
  "language_info": {
   "codemirror_mode": {
    "name": "ipython",
    "version": 3
   },
   "file_extension": ".py",
   "mimetype": "text/x-python",
   "name": "python",
   "nbconvert_exporter": "python",
   "pygments_lexer": "ipython3",
   "version": "3.5.2"
  }
 },
 "nbformat": 4,
 "nbformat_minor": 2
}
