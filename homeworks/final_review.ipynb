{
 "cells": [
  {
   "cell_type": "code",
   "execution_count": 20,
   "metadata": {
    "collapsed": true
   },
   "outputs": [],
   "source": [
    "%matplotlib inline"
   ]
  },
  {
   "cell_type": "markdown",
   "metadata": {},
   "source": [
    "# Question 1\n",
    "Suppose a researcher wants to design a new study with a power of 0.8 and a significance of 0.05 to test whether the caffeine content for a brand of coffee is really 100mg. A previous study gave a mean caffeine level for this brand of 110 mg and a standard deviation of 7 mg.  Use PROC POWER to determine how many cups of coffee need testing.\n"
   ]
  },
  {
   "cell_type": "code",
   "execution_count": 12,
   "metadata": {},
   "outputs": [
    {
     "name": "stdout",
     "output_type": "stream",
     "text": [
      "nobs: 7 actual power: 0.879938917085\n"
     ]
    }
   ],
   "source": [
    "from statsmodels.stats import power\n",
    "from math import ceil\n",
    "\n",
    "effect_size = (110 - 100) / 7\n",
    "nobs = power.tt_solve_power(effect_size=effect_size, alpha=0.05, power=0.8)\n",
    "nobs = ceil(nobs)\n",
    "actual_power = power.tt_solve_power(effect_size=effect_size, alpha=0.05, nobs=nobs)\n",
    "\n",
    "print('nobs:', nobs, 'actual power:', actual_power)"
   ]
  },
  {
   "cell_type": "markdown",
   "metadata": {
    "collapsed": true
   },
   "source": [
    "# Question 4"
   ]
  },
  {
   "cell_type": "code",
   "execution_count": null,
   "metadata": {
    "collapsed": true
   },
   "outputs": [],
   "source": [
    "As cheese ages, various chemical processes take place that determine the taste of the final product.\n",
    "\n",
    "This dataset contains concentrations of various chemicals in 30 samples of mature cheddar cheese, and a subjective measure of taste for each sample (variable taste – where a larger score is better).\n",
    "The variables \"Acetic\" and \"H2S\" are the natural logarithm of the concentration of acetic acid and hydrogen sulfide respectively. "
   ]
  },
  {
   "cell_type": "code",
   "execution_count": 53,
   "metadata": {},
   "outputs": [
    {
     "data": {
      "text/html": [
       "<div>\n",
       "<table border=\"1\" class=\"dataframe\">\n",
       "  <thead>\n",
       "    <tr style=\"text-align: right;\">\n",
       "      <th></th>\n",
       "      <th>taste</th>\n",
       "      <th>Acetic</th>\n",
       "      <th>H2S</th>\n",
       "    </tr>\n",
       "    <tr>\n",
       "      <th>Case</th>\n",
       "      <th></th>\n",
       "      <th></th>\n",
       "      <th></th>\n",
       "    </tr>\n",
       "  </thead>\n",
       "  <tbody>\n",
       "    <tr>\n",
       "      <th>1</th>\n",
       "      <td>12.3</td>\n",
       "      <td>4.543</td>\n",
       "      <td>3.135</td>\n",
       "    </tr>\n",
       "    <tr>\n",
       "      <th>2</th>\n",
       "      <td>20.9</td>\n",
       "      <td>5.159</td>\n",
       "      <td>5.043</td>\n",
       "    </tr>\n",
       "    <tr>\n",
       "      <th>3</th>\n",
       "      <td>39.0</td>\n",
       "      <td>5.366</td>\n",
       "      <td>5.438</td>\n",
       "    </tr>\n",
       "    <tr>\n",
       "      <th>4</th>\n",
       "      <td>47.9</td>\n",
       "      <td>5.759</td>\n",
       "      <td>7.496</td>\n",
       "    </tr>\n",
       "    <tr>\n",
       "      <th>5</th>\n",
       "      <td>5.6</td>\n",
       "      <td>4.663</td>\n",
       "      <td>3.807</td>\n",
       "    </tr>\n",
       "  </tbody>\n",
       "</table>\n",
       "</div>"
      ],
      "text/plain": [
       "      taste  Acetic    H2S\n",
       "Case                      \n",
       "1      12.3   4.543  3.135\n",
       "2      20.9   5.159  5.043\n",
       "3      39.0   5.366  5.438\n",
       "4      47.9   5.759  7.496\n",
       "5       5.6   4.663  3.807"
      ]
     },
     "execution_count": 53,
     "metadata": {},
     "output_type": "execute_result"
    }
   ],
   "source": [
    "data = [\n",
    "    [1, 12.3, 4.543, 3.135], \n",
    "    [2, 20.9, 5.159, 5.043], \n",
    "    [3, 39, 5.366, 5.438], \n",
    "    [4, 47.9, 5.759, 7.496], \n",
    "    [5, 5.6, 4.663, 3.807], \n",
    "    [6, 25.9, 5.697, 7.601], \n",
    "    [7, 37.3, 5.892, 8.726], \n",
    "    [8, 21.9, 6.078, 7.966], \n",
    "    [9, 18.1, 4.898, 3.85], \n",
    "    [10, 21, 5.242, 4.174], \n",
    "    [11, 34.9, 5.74, 6.142], \n",
    "    [12, 57.2, 6.446, 7.908], \n",
    "    [13, 0.7, 4.477, 2.996], \n",
    "    [14, 25.9, 5.236, 4.942], \n",
    "    [15, 54.9, 6.151, 6.752], \n",
    "    [16, 40.9, 6.365, 9.588], \n",
    "    [17, 15.9, 4.787, 3.912], \n",
    "    [18, 6.4, 5.412, 4.7], \n",
    "    [19, 18, 5.247, 6.174], \n",
    "    [20, 38.9, 5.438, 9.064], \n",
    "    [21, 14, 4.564, 4.949], \n",
    "    [22, 15.2, 5.298, 5.22], \n",
    "    [23, 32, 5.455, 9.242], \n",
    "    [24, 56.7, 5.855, 10.199],\n",
    "    [25, 16.8, 5.366, 3.664], \n",
    "    [26, 11.6, 6.043, 3.219], \n",
    "    [27, 26.5, 6.458, 6.962], \n",
    "    [28, 0.7, 5.328, 3.912], \n",
    "    [29, 13.4, 5.802, 6.685], \n",
    "    [30, 5.5, 6.176, 4.787],\n",
    "]\n",
    "data = pd.DataFrame(data, columns=['Case', 'taste', 'Acetic', 'H2S']).set_index('Case')\n",
    "data.head()"
   ]
  },
  {
   "cell_type": "code",
   "execution_count": 57,
   "metadata": {
    "scrolled": false
   },
   "outputs": [
    {
     "data": {
      "text/html": [
       "<table class=\"simpletable\">\n",
       "<caption>OLS Regression Results</caption>\n",
       "<tr>\n",
       "  <th>Dep. Variable:</th>          <td>taste</td>      <th>  R-squared:         </th> <td>   0.582</td>\n",
       "</tr>\n",
       "<tr>\n",
       "  <th>Model:</th>                   <td>OLS</td>       <th>  Adj. R-squared:    </th> <td>   0.551</td>\n",
       "</tr>\n",
       "<tr>\n",
       "  <th>Method:</th>             <td>Least Squares</td>  <th>  F-statistic:       </th> <td>   18.81</td>\n",
       "</tr>\n",
       "<tr>\n",
       "  <th>Date:</th>             <td>Fri, 28 Apr 2017</td> <th>  Prob (F-statistic):</th> <td>7.65e-06</td>\n",
       "</tr>\n",
       "<tr>\n",
       "  <th>Time:</th>                 <td>17:48:50</td>     <th>  Log-Likelihood:    </th> <td> -112.62</td>\n",
       "</tr>\n",
       "<tr>\n",
       "  <th>No. Observations:</th>      <td>    30</td>      <th>  AIC:               </th> <td>   231.2</td>\n",
       "</tr>\n",
       "<tr>\n",
       "  <th>Df Residuals:</th>          <td>    27</td>      <th>  BIC:               </th> <td>   235.4</td>\n",
       "</tr>\n",
       "<tr>\n",
       "  <th>Df Model:</th>              <td>     2</td>      <th>                     </th>     <td> </td>   \n",
       "</tr>\n",
       "<tr>\n",
       "  <th>Covariance Type:</th>      <td>nonrobust</td>    <th>                     </th>     <td> </td>   \n",
       "</tr>\n",
       "</table>\n",
       "<table class=\"simpletable\">\n",
       "<tr>\n",
       "      <td></td>         <th>coef</th>     <th>std err</th>      <th>t</th>      <th>P>|t|</th>  <th>[0.025</th>    <th>0.975]</th>  \n",
       "</tr>\n",
       "<tr>\n",
       "  <th>Intercept</th> <td>  -26.9397</td> <td>   21.194</td> <td>   -1.271</td> <td> 0.215</td> <td>  -70.426</td> <td>   16.547</td>\n",
       "</tr>\n",
       "<tr>\n",
       "  <th>Acetic</th>    <td>    3.8012</td> <td>    4.505</td> <td>    0.844</td> <td> 0.406</td> <td>   -5.443</td> <td>   13.045</td>\n",
       "</tr>\n",
       "<tr>\n",
       "  <th>H2S</th>       <td>    5.1456</td> <td>    1.209</td> <td>    4.255</td> <td> 0.000</td> <td>    2.664</td> <td>    7.627</td>\n",
       "</tr>\n",
       "</table>\n",
       "<table class=\"simpletable\">\n",
       "<tr>\n",
       "  <th>Omnibus:</th>       <td> 1.223</td> <th>  Durbin-Watson:     </th> <td>   1.293</td>\n",
       "</tr>\n",
       "<tr>\n",
       "  <th>Prob(Omnibus):</th> <td> 0.543</td> <th>  Jarque-Bera (JB):  </th> <td>   1.179</td>\n",
       "</tr>\n",
       "<tr>\n",
       "  <th>Skew:</th>          <td> 0.410</td> <th>  Prob(JB):          </th> <td>   0.555</td>\n",
       "</tr>\n",
       "<tr>\n",
       "  <th>Kurtosis:</th>      <td> 2.479</td> <th>  Cond. No.          </th> <td>    90.9</td>\n",
       "</tr>\n",
       "</table>"
      ],
      "text/plain": [
       "<class 'statsmodels.iolib.summary.Summary'>\n",
       "\"\"\"\n",
       "                            OLS Regression Results                            \n",
       "==============================================================================\n",
       "Dep. Variable:                  taste   R-squared:                       0.582\n",
       "Model:                            OLS   Adj. R-squared:                  0.551\n",
       "Method:                 Least Squares   F-statistic:                     18.81\n",
       "Date:                Fri, 28 Apr 2017   Prob (F-statistic):           7.65e-06\n",
       "Time:                        17:48:50   Log-Likelihood:                -112.62\n",
       "No. Observations:                  30   AIC:                             231.2\n",
       "Df Residuals:                      27   BIC:                             235.4\n",
       "Df Model:                           2                                         \n",
       "Covariance Type:            nonrobust                                         \n",
       "==============================================================================\n",
       "                 coef    std err          t      P>|t|      [0.025      0.975]\n",
       "------------------------------------------------------------------------------\n",
       "Intercept    -26.9397     21.194     -1.271      0.215     -70.426      16.547\n",
       "Acetic         3.8012      4.505      0.844      0.406      -5.443      13.045\n",
       "H2S            5.1456      1.209      4.255      0.000       2.664       7.627\n",
       "==============================================================================\n",
       "Omnibus:                        1.223   Durbin-Watson:                   1.293\n",
       "Prob(Omnibus):                  0.543   Jarque-Bera (JB):                1.179\n",
       "Skew:                           0.410   Prob(JB):                        0.555\n",
       "Kurtosis:                       2.479   Cond. No.                         90.9\n",
       "==============================================================================\n",
       "\n",
       "Warnings:\n",
       "[1] Standard Errors assume that the covariance matrix of the errors is correctly specified.\n",
       "\"\"\""
      ]
     },
     "execution_count": 57,
     "metadata": {},
     "output_type": "execute_result"
    }
   ],
   "source": [
    "import statsmodels.formula.api as smf\n",
    "\n",
    "model = smf.ols('taste ~ Acetic + H2S', data).fit()\n",
    "model.summary()"
   ]
  },
  {
   "cell_type": "markdown",
   "metadata": {},
   "source": [
    "The overall regression equation is significant, based on the p-value shown in anova table.  This shows that the model does a better job describing the variation in the response than the single parameter (equal means) model. "
   ]
  },
  {
   "cell_type": "code",
   "execution_count": 67,
   "metadata": {
    "collapsed": true
   },
   "outputs": [],
   "source": [
    "anova_lm?"
   ]
  },
  {
   "cell_type": "code",
   "execution_count": 66,
   "metadata": {},
   "outputs": [
    {
     "name": "stderr",
     "output_type": "stream",
     "text": [
      "/usr/local/lib/python3.5/dist-packages/scipy/stats/_distn_infrastructure.py:879: RuntimeWarning: invalid value encountered in greater\n",
      "  return (self.a < x) & (x < self.b)\n",
      "/usr/local/lib/python3.5/dist-packages/scipy/stats/_distn_infrastructure.py:879: RuntimeWarning: invalid value encountered in less\n",
      "  return (self.a < x) & (x < self.b)\n",
      "/usr/local/lib/python3.5/dist-packages/scipy/stats/_distn_infrastructure.py:1818: RuntimeWarning: invalid value encountered in less_equal\n",
      "  cond2 = cond0 & (x <= self.a)\n"
     ]
    },
    {
     "data": {
      "text/html": [
       "<div>\n",
       "<table border=\"1\" class=\"dataframe\">\n",
       "  <thead>\n",
       "    <tr style=\"text-align: right;\">\n",
       "      <th></th>\n",
       "      <th>df</th>\n",
       "      <th>sum_sq</th>\n",
       "      <th>mean_sq</th>\n",
       "      <th>F</th>\n",
       "      <th>PR(&gt;F)</th>\n",
       "    </tr>\n",
       "  </thead>\n",
       "  <tbody>\n",
       "    <tr>\n",
       "      <th>Acetic</th>\n",
       "      <td>1.0</td>\n",
       "      <td>2314.141512</td>\n",
       "      <td>2314.141512</td>\n",
       "      <td>19.515029</td>\n",
       "      <td>0.000146</td>\n",
       "    </tr>\n",
       "    <tr>\n",
       "      <th>H2S</th>\n",
       "      <td>1.0</td>\n",
       "      <td>2147.016802</td>\n",
       "      <td>2147.016802</td>\n",
       "      <td>18.105675</td>\n",
       "      <td>0.000225</td>\n",
       "    </tr>\n",
       "    <tr>\n",
       "      <th>Residual</th>\n",
       "      <td>27.0</td>\n",
       "      <td>3201.728353</td>\n",
       "      <td>118.582532</td>\n",
       "      <td>NaN</td>\n",
       "      <td>NaN</td>\n",
       "    </tr>\n",
       "  </tbody>\n",
       "</table>\n",
       "</div>"
      ],
      "text/plain": [
       "            df       sum_sq      mean_sq          F    PR(>F)\n",
       "Acetic     1.0  2314.141512  2314.141512  19.515029  0.000146\n",
       "H2S        1.0  2147.016802  2147.016802  18.105675  0.000225\n",
       "Residual  27.0  3201.728353   118.582532        NaN       NaN"
      ]
     },
     "execution_count": 66,
     "metadata": {},
     "output_type": "execute_result"
    }
   ],
   "source": [
    "from statsmodels.stats.anova import anova_lm\n",
    "anova_lm(model)"
   ]
  },
  {
   "cell_type": "markdown",
   "metadata": {},
   "source": [
    "Referring to Figure 4 the slope of the H2S variable is significant, with a p-value of 0.0002, meaning that the slope is significantly different than 0 at an α = 0.05.\n",
    "\n",
    "The slope of Acetic variable is not significant, with a p-value of 0.4062, meaning that the slope is not significantly different than 0 at an α = 0.05.  These p-values are calculated by a hypothesis test where the null hypothesis is that the slope parameter is equal 0 and the alternative hypothesis is that the slope parameter is not equal to zero. \n",
    "\n",
    "\n",
    "Practically, this means that we can eliminate the Acetic variable from the model without impacting the fit of the model.  A quick comparison of R2 for both the 3 parameter model (with Acetic included) and the 2 parameter model (a simple linear regression based on H2S) in Figure 6 shows this is true.\n"
   ]
  },
  {
   "cell_type": "code",
   "execution_count": 8,
   "metadata": {},
   "outputs": [
    {
     "data": {
      "text/html": [
       "<table class=\"simpletable\">\n",
       "<caption>OLS Regression Results</caption>\n",
       "<tr>\n",
       "  <th>Dep. Variable:</th>          <td>taste</td>      <th>  R-squared:         </th> <td>   0.571</td>\n",
       "</tr>\n",
       "<tr>\n",
       "  <th>Model:</th>                   <td>OLS</td>       <th>  Adj. R-squared:    </th> <td>   0.556</td>\n",
       "</tr>\n",
       "<tr>\n",
       "  <th>Method:</th>             <td>Least Squares</td>  <th>  F-statistic:       </th> <td>   37.29</td>\n",
       "</tr>\n",
       "<tr>\n",
       "  <th>Date:</th>             <td>Fri, 28 Apr 2017</td> <th>  Prob (F-statistic):</th> <td>1.37e-06</td>\n",
       "</tr>\n",
       "<tr>\n",
       "  <th>Time:</th>                 <td>16:04:50</td>     <th>  Log-Likelihood:    </th> <td> -113.01</td>\n",
       "</tr>\n",
       "<tr>\n",
       "  <th>No. Observations:</th>      <td>    30</td>      <th>  AIC:               </th> <td>   230.0</td>\n",
       "</tr>\n",
       "<tr>\n",
       "  <th>Df Residuals:</th>          <td>    28</td>      <th>  BIC:               </th> <td>   232.8</td>\n",
       "</tr>\n",
       "<tr>\n",
       "  <th>Df Model:</th>              <td>     1</td>      <th>                     </th>     <td> </td>   \n",
       "</tr>\n",
       "<tr>\n",
       "  <th>Covariance Type:</th>      <td>nonrobust</td>    <th>                     </th>     <td> </td>   \n",
       "</tr>\n",
       "</table>\n",
       "<table class=\"simpletable\">\n",
       "<tr>\n",
       "      <td></td>         <th>coef</th>     <th>std err</th>      <th>t</th>      <th>P>|t|</th>  <th>[0.025</th>    <th>0.975]</th>  \n",
       "</tr>\n",
       "<tr>\n",
       "  <th>Intercept</th> <td>   -9.7868</td> <td>    5.958</td> <td>   -1.643</td> <td> 0.112</td> <td>  -21.991</td> <td>    2.417</td>\n",
       "</tr>\n",
       "<tr>\n",
       "  <th>H2S</th>       <td>    5.7761</td> <td>    0.946</td> <td>    6.107</td> <td> 0.000</td> <td>    3.839</td> <td>    7.714</td>\n",
       "</tr>\n",
       "</table>\n",
       "<table class=\"simpletable\">\n",
       "<tr>\n",
       "  <th>Omnibus:</th>       <td> 2.534</td> <th>  Durbin-Watson:     </th> <td>   1.369</td>\n",
       "</tr>\n",
       "<tr>\n",
       "  <th>Prob(Omnibus):</th> <td> 0.282</td> <th>  Jarque-Bera (JB):  </th> <td>   2.114</td>\n",
       "</tr>\n",
       "<tr>\n",
       "  <th>Skew:</th>          <td> 0.636</td> <th>  Prob(JB):          </th> <td>   0.347</td>\n",
       "</tr>\n",
       "<tr>\n",
       "  <th>Kurtosis:</th>      <td> 2.733</td> <th>  Cond. No.          </th> <td>    19.4</td>\n",
       "</tr>\n",
       "</table>"
      ],
      "text/plain": [
       "<class 'statsmodels.iolib.summary.Summary'>\n",
       "\"\"\"\n",
       "                            OLS Regression Results                            \n",
       "==============================================================================\n",
       "Dep. Variable:                  taste   R-squared:                       0.571\n",
       "Model:                            OLS   Adj. R-squared:                  0.556\n",
       "Method:                 Least Squares   F-statistic:                     37.29\n",
       "Date:                Fri, 28 Apr 2017   Prob (F-statistic):           1.37e-06\n",
       "Time:                        16:04:50   Log-Likelihood:                -113.01\n",
       "No. Observations:                  30   AIC:                             230.0\n",
       "Df Residuals:                      28   BIC:                             232.8\n",
       "Df Model:                           1                                         \n",
       "Covariance Type:            nonrobust                                         \n",
       "==============================================================================\n",
       "                 coef    std err          t      P>|t|      [0.025      0.975]\n",
       "------------------------------------------------------------------------------\n",
       "Intercept     -9.7868      5.958     -1.643      0.112     -21.991       2.417\n",
       "H2S            5.7761      0.946      6.107      0.000       3.839       7.714\n",
       "==============================================================================\n",
       "Omnibus:                        2.534   Durbin-Watson:                   1.369\n",
       "Prob(Omnibus):                  0.282   Jarque-Bera (JB):                2.114\n",
       "Skew:                           0.636   Prob(JB):                        0.347\n",
       "Kurtosis:                       2.733   Cond. No.                         19.4\n",
       "==============================================================================\n",
       "\n",
       "Warnings:\n",
       "[1] Standard Errors assume that the covariance matrix of the errors is correctly specified.\n",
       "\"\"\""
      ]
     },
     "execution_count": 8,
     "metadata": {},
     "output_type": "execute_result"
    }
   ],
   "source": [
    "model = smf.ols('taste ~ H2S', data).fit()\n",
    "model.summary()"
   ]
  },
  {
   "cell_type": "markdown",
   "metadata": {},
   "source": [
    "## Partial residuals"
   ]
  },
  {
   "cell_type": "code",
   "execution_count": 17,
   "metadata": {},
   "outputs": [
    {
     "data": {
      "text/html": [
       "<div>\n",
       "<table border=\"1\" class=\"dataframe\">\n",
       "  <thead>\n",
       "    <tr style=\"text-align: right;\">\n",
       "      <th></th>\n",
       "      <th>taste</th>\n",
       "      <th>Acetic</th>\n",
       "      <th>H2S</th>\n",
       "    </tr>\n",
       "    <tr>\n",
       "      <th>Case</th>\n",
       "      <th></th>\n",
       "      <th></th>\n",
       "      <th></th>\n",
       "    </tr>\n",
       "  </thead>\n",
       "  <tbody>\n",
       "    <tr>\n",
       "      <th>1</th>\n",
       "      <td>12.3</td>\n",
       "      <td>4.543</td>\n",
       "      <td>3.135</td>\n",
       "    </tr>\n",
       "    <tr>\n",
       "      <th>2</th>\n",
       "      <td>20.9</td>\n",
       "      <td>5.159</td>\n",
       "      <td>5.043</td>\n",
       "    </tr>\n",
       "    <tr>\n",
       "      <th>3</th>\n",
       "      <td>39.0</td>\n",
       "      <td>5.366</td>\n",
       "      <td>5.438</td>\n",
       "    </tr>\n",
       "    <tr>\n",
       "      <th>4</th>\n",
       "      <td>47.9</td>\n",
       "      <td>5.759</td>\n",
       "      <td>7.496</td>\n",
       "    </tr>\n",
       "    <tr>\n",
       "      <th>5</th>\n",
       "      <td>5.6</td>\n",
       "      <td>4.663</td>\n",
       "      <td>3.807</td>\n",
       "    </tr>\n",
       "  </tbody>\n",
       "</table>\n",
       "</div>"
      ],
      "text/plain": [
       "      taste  Acetic    H2S\n",
       "Case                      \n",
       "1      12.3   4.543  3.135\n",
       "2      20.9   5.159  5.043\n",
       "3      39.0   5.366  5.438\n",
       "4      47.9   5.759  7.496\n",
       "5       5.6   4.663  3.807"
      ]
     },
     "execution_count": 17,
     "metadata": {},
     "output_type": "execute_result"
    }
   ],
   "source": [
    "data.head()"
   ]
  },
  {
   "cell_type": "code",
   "execution_count": 39,
   "metadata": {},
   "outputs": [
    {
     "data": {
      "text/plain": [
       "5.1455976236669585"
      ]
     },
     "execution_count": 39,
     "metadata": {},
     "output_type": "execute_result"
    }
   ],
   "source": [
    "model.params['H2S']"
   ]
  },
  {
   "cell_type": "code",
   "execution_count": 40,
   "metadata": {},
   "outputs": [],
   "source": [
    "model = smf.ols('taste ~ Acetic + H2S', data).fit()\n",
    "Acetic_res = data['taste'] - model.params['Intercept'] - model.params['Acetic'] * data['Acetic']\n",
    "H2S_res = data['taste'] - model.params['Intercept'] - model.params['H2S'] * data['H2S']"
   ]
  },
  {
   "cell_type": "code",
   "execution_count": 41,
   "metadata": {},
   "outputs": [
    {
     "data": {
      "text/plain": [
       "<matplotlib.collections.PathCollection at 0x7f1b68e3cd30>"
      ]
     },
     "execution_count": 41,
     "metadata": {},
     "output_type": "execute_result"
    },
    {
     "data": {
      "image/png": "[encoded data removed]",
      "text/plain": [
       "<matplotlib.figure.Figure at 0x7f1b68fa0eb8>"
      ]
     },
     "metadata": {},
     "output_type": "display_data"
    }
   ],
   "source": [
    "plt.scatter(data['Acetic'], Acetic_res)"
   ]
  },
  {
   "cell_type": "code",
   "execution_count": 42,
   "metadata": {},
   "outputs": [
    {
     "data": {
      "text/plain": [
       "<matplotlib.collections.PathCollection at 0x7f1b68e1e978>"
      ]
     },
     "execution_count": 42,
     "metadata": {},
     "output_type": "execute_result"
    },
    {
     "data": {
      "image/png": "[encoded data removed]",
      "text/plain": [
       "<matplotlib.figure.Figure at 0x7f1b68e509b0>"
      ]
     },
     "metadata": {},
     "output_type": "display_data"
    }
   ],
   "source": [
    "plt.scatter(data['H2S'], H2S_res)"
   ]
  },
  {
   "cell_type": "code",
   "execution_count": 36,
   "metadata": {},
   "outputs": [
    {
     "data": {
      "text/plain": [
       "array([[ 1.        ,  0.12498524],\n",
       "       [ 0.12498524,  1.        ]])"
      ]
     },
     "execution_count": 36,
     "metadata": {},
     "output_type": "execute_result"
    }
   ],
   "source": [
    "np.corrcoef(data['H2S'], H2S_res)"
   ]
  },
  {
   "cell_type": "code",
   "execution_count": 52,
   "metadata": {},
   "outputs": [
    {
     "name": "stdout",
     "output_type": "stream",
     "text": [
      "Acetic Correlation coefficient: 0.445764211545 2-tailed p-value 0.0135561769581\n",
      "H2S Correlation coefficient: 0.124985236498 2-tailed p-value 0.51049196876\n"
     ]
    }
   ],
   "source": [
    "from scipy import stats\n",
    "corr, pvalue = stats.pearsonr(data['Acetic'], Acetic_res)\n",
    "print('Acetic Correlation coefficient:', corr, '2-tailed p-value', pvalue)\n",
    "corr, pvalue = stats.pearsonr(data['H2S'], H2S_res)\n",
    "print('H2S Correlation coefficient:', corr, '2-tailed p-value', pvalue)"
   ]
  },
  {
   "cell_type": "code",
   "execution_count": 43,
   "metadata": {},
   "outputs": [
    {
     "data": {
      "text/html": [
       "<div>\n",
       "<table border=\"1\" class=\"dataframe\">\n",
       "  <thead>\n",
       "    <tr style=\"text-align: right;\">\n",
       "      <th></th>\n",
       "      <th>0</th>\n",
       "      <th>1</th>\n",
       "    </tr>\n",
       "  </thead>\n",
       "  <tbody>\n",
       "    <tr>\n",
       "      <th>Intercept</th>\n",
       "      <td>-63.039317</td>\n",
       "      <td>9.159863</td>\n",
       "    </tr>\n",
       "    <tr>\n",
       "      <th>Acetic</th>\n",
       "      <td>-3.872697</td>\n",
       "      <td>11.475095</td>\n",
       "    </tr>\n",
       "    <tr>\n",
       "      <th>H2S</th>\n",
       "      <td>3.085837</td>\n",
       "      <td>7.205358</td>\n",
       "    </tr>\n",
       "  </tbody>\n",
       "</table>\n",
       "</div>"
      ],
      "text/plain": [
       "                   0          1\n",
       "Intercept -63.039317   9.159863\n",
       "Acetic     -3.872697  11.475095\n",
       "H2S         3.085837   7.205358"
      ]
     },
     "execution_count": 43,
     "metadata": {},
     "output_type": "execute_result"
    }
   ],
   "source": [
    "model.conf_int(0.1)"
   ]
  },
  {
   "cell_type": "code",
   "execution_count": 47,
   "metadata": {},
   "outputs": [
    {
     "data": {
      "text/plain": [
       "<matplotlib.lines.Line2D at 0x7f1b68d64e48>"
      ]
     },
     "execution_count": 47,
     "metadata": {},
     "output_type": "execute_result"
    },
    {
     "data": {
      "image/png": "[encoded data removed]",
      "text/plain": [
       "<matplotlib.figure.Figure at 0x7f1b68dc53c8>"
      ]
     },
     "metadata": {},
     "output_type": "display_data"
    }
   ],
   "source": [
    "influence = model.get_influence()\n",
    "influence_summary = influence.summary_frame()\n",
    "plt.plot(influence_summary.index, influence_summary['cooks_d'], 'o')\n",
    "\n",
    "plt.axhline(y=4/(len(data)-1), color='r', linestyle='-')"
   ]
  },
  {
   "cell_type": "markdown",
   "metadata": {},
   "source": [
    "# Question 5\n",
    "In one weight-loss study 89 sedentary men were randomly assigned to either a special diet or exercise for a year. \n",
    "\n",
    "Forty-two men were placed on a diet and they lost an average of 7.2 kg with a standard deviation of 3.7 kg. \n",
    "\n",
    "The other 47 men were put on an exercise program and they lost an average of 5.3 kg with a standard deviation of 3.9 kg. \n",
    "\n",
    "For these data, researchers calculated three confidence intervals. They are given in the table below.\n"
   ]
  }
 ],
 "metadata": {
  "kernelspec": {
   "display_name": "Python 3",
   "language": "python",
   "name": "python3"
  },
  "language_info": {
   "codemirror_mode": {
    "name": "ipython",
    "version": 3
   },
   "file_extension": ".py",
   "mimetype": "text/x-python",
   "name": "python",
   "nbconvert_exporter": "python",
   "pygments_lexer": "ipython3",
   "version": "3.5.2"
  }
 },
 "nbformat": 4,
 "nbformat_minor": 2
}
