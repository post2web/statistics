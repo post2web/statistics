{
 "cells": [
  {
   "cell_type": "code",
   "execution_count": 1,
   "metadata": {
    "collapsed": true
   },
   "outputs": [],
   "source": [
    "%matplotlib inline\n",
    "import numpy as np\n",
    "import pandas as pd\n",
    "import matplotlib.pyplot as plt\n",
    "from scipy.stats import norm, t as normt, skewnorm\n",
    "\n",
    "# z-table lookup:\n",
    "P_to_z = norm.ppf\n",
    "z_to_P = norm.cdf\n",
    "\n",
    "# p-table lookup (one tail):\n",
    "def t_to_P(t, df):\n",
    "    return normt.sf(abs(t), df) * 2\n",
    "\n",
    "P_to_t = normt.ppf"
   ]
  },
  {
   "cell_type": "markdown",
   "metadata": {},
   "source": [
    "# 1. Statistical Graphics"
   ]
  },
  {
   "cell_type": "code",
   "execution_count": 2,
   "metadata": {
    "collapsed": true
   },
   "outputs": [],
   "source": [
    "ages = [22,37,28,63,32,26,31,27,27,28,30,26,29,24,38,25,29,41,30,35,35,33,29,38,54,24,25,46,41,28,40,39,29,27,31,38,29,25,35,60,43,35,34,34,27,37,42,41,36,32,41,33,31,74,33,50,38,61,21,41,26,80,42,29,33,35,45,49,39,34,26,25,33,35,35,28]\n",
    "ages = pd.DataFrame(ages, columns=['age'])\n",
    "ages['group'] = np.ceil(ages['age'] / 10.) * 10"
   ]
  },
  {
   "cell_type": "markdown",
   "metadata": {},
   "source": [
    "## Frequency distribution\n",
    "Break down data to bins"
   ]
  },
  {
   "cell_type": "code",
   "execution_count": 3,
   "metadata": {},
   "outputs": [
    {
     "data": {
      "text/html": [
       "<div>\n",
       "<table border=\"1\" class=\"dataframe\">\n",
       "  <thead>\n",
       "    <tr style=\"text-align: right;\">\n",
       "      <th></th>\n",
       "      <th>Frequency</th>\n",
       "    </tr>\n",
       "    <tr>\n",
       "      <th>group</th>\n",
       "      <th></th>\n",
       "    </tr>\n",
       "  </thead>\n",
       "  <tbody>\n",
       "    <tr>\n",
       "      <th>30.0</th>\n",
       "      <td>28</td>\n",
       "    </tr>\n",
       "    <tr>\n",
       "      <th>40.0</th>\n",
       "      <td>30</td>\n",
       "    </tr>\n",
       "    <tr>\n",
       "      <th>50.0</th>\n",
       "      <td>12</td>\n",
       "    </tr>\n",
       "    <tr>\n",
       "      <th>60.0</th>\n",
       "      <td>2</td>\n",
       "    </tr>\n",
       "    <tr>\n",
       "      <th>70.0</th>\n",
       "      <td>2</td>\n",
       "    </tr>\n",
       "    <tr>\n",
       "      <th>80.0</th>\n",
       "      <td>2</td>\n",
       "    </tr>\n",
       "  </tbody>\n",
       "</table>\n",
       "</div>"
      ],
      "text/plain": [
       "       Frequency\n",
       "group           \n",
       "30.0          28\n",
       "40.0          30\n",
       "50.0          12\n",
       "60.0           2\n",
       "70.0           2\n",
       "80.0           2"
      ]
     },
     "execution_count": 3,
     "metadata": {},
     "output_type": "execute_result"
    }
   ],
   "source": [
    "ages.groupby('group').count().rename(columns={'age':'Frequency'})"
   ]
  },
  {
   "cell_type": "markdown",
   "metadata": {},
   "source": [
    "## Relative Frequency Distribution\n",
    "\n",
    "# $ Relative\\ Frequency = \\frac{Frequency}{n}$"
   ]
  },
  {
   "cell_type": "code",
   "execution_count": 4,
   "metadata": {},
   "outputs": [
    {
     "data": {
      "text/html": [
       "<div>\n",
       "<table border=\"1\" class=\"dataframe\">\n",
       "  <thead>\n",
       "    <tr style=\"text-align: right;\">\n",
       "      <th></th>\n",
       "      <th>Relative Frequency</th>\n",
       "    </tr>\n",
       "    <tr>\n",
       "      <th>group</th>\n",
       "      <th></th>\n",
       "    </tr>\n",
       "  </thead>\n",
       "  <tbody>\n",
       "    <tr>\n",
       "      <th>30.0</th>\n",
       "      <td>36.842105</td>\n",
       "    </tr>\n",
       "    <tr>\n",
       "      <th>40.0</th>\n",
       "      <td>39.473684</td>\n",
       "    </tr>\n",
       "    <tr>\n",
       "      <th>50.0</th>\n",
       "      <td>15.789474</td>\n",
       "    </tr>\n",
       "    <tr>\n",
       "      <th>60.0</th>\n",
       "      <td>2.631579</td>\n",
       "    </tr>\n",
       "    <tr>\n",
       "      <th>70.0</th>\n",
       "      <td>2.631579</td>\n",
       "    </tr>\n",
       "    <tr>\n",
       "      <th>80.0</th>\n",
       "      <td>2.631579</td>\n",
       "    </tr>\n",
       "  </tbody>\n",
       "</table>\n",
       "</div>"
      ],
      "text/plain": [
       "       Relative Frequency\n",
       "group                    \n",
       "30.0            36.842105\n",
       "40.0            39.473684\n",
       "50.0            15.789474\n",
       "60.0             2.631579\n",
       "70.0             2.631579\n",
       "80.0             2.631579"
      ]
     },
     "execution_count": 4,
     "metadata": {},
     "output_type": "execute_result"
    }
   ],
   "source": [
    "ages.groupby('group').count().rename(columns={'age':'Relative Frequency'}) / len(ages) * 100"
   ]
  },
  {
   "cell_type": "markdown",
   "metadata": {},
   "source": [
    "## Frequency Distribution Histogram\n",
    "Frequency distribution visualization as a chart"
   ]
  },
  {
   "cell_type": "code",
   "execution_count": 5,
   "metadata": {
    "scrolled": false
   },
   "outputs": [
    {
     "data": {
      "text/plain": [
       "<matplotlib.axes._subplots.AxesSubplot at 0x7fed79a8d7f0>"
      ]
     },
     "execution_count": 5,
     "metadata": {},
     "output_type": "execute_result"
    },
    {
     "data": {
      "image/png": "[encoded data removed]",
      "text/plain": [
       "<matplotlib.figure.Figure at 0x7fed862c2b70>"
      ]
     },
     "metadata": {},
     "output_type": "display_data"
    }
   ],
   "source": [
    "ages['age'].hist(bins=6)"
   ]
  },
  {
   "cell_type": "markdown",
   "metadata": {},
   "source": [
    "## Cumulative Frequencies"
   ]
  },
  {
   "cell_type": "code",
   "execution_count": 6,
   "metadata": {},
   "outputs": [
    {
     "data": {
      "text/plain": [
       "<matplotlib.axes._subplots.AxesSubplot at 0x7fed79a5d978>"
      ]
     },
     "execution_count": 6,
     "metadata": {},
     "output_type": "execute_result"
    },
    {
     "data": {
      "image/png": "[encoded data removed]",
      "text/plain": [
       "<matplotlib.figure.Figure at 0x7fed799d72b0>"
      ]
     },
     "metadata": {},
     "output_type": "display_data"
    }
   ],
   "source": [
    "ages.groupby('group').sum().cumsum().plot()"
   ]
  },
  {
   "cell_type": "markdown",
   "metadata": {},
   "source": [
    "## Right Skewed distribution"
   ]
  },
  {
   "cell_type": "code",
   "execution_count": 7,
   "metadata": {
    "scrolled": false
   },
   "outputs": [
    {
     "data": {
      "text/plain": [
       "<matplotlib.axes._subplots.AxesSubplot at 0x7fed741a31d0>"
      ]
     },
     "execution_count": 7,
     "metadata": {},
     "output_type": "execute_result"
    },
    {
     "data": {
      "image/png": "[encoded data removed]",
      "text/plain": [
       "<matplotlib.figure.Figure at 0x7fed741070f0>"
      ]
     },
     "metadata": {},
     "output_type": "display_data"
    }
   ],
   "source": [
    "pd.Series(skewnorm.rvs(10, size=1000)).hist()"
   ]
  },
  {
   "cell_type": "markdown",
   "metadata": {},
   "source": [
    "## Left Skewed"
   ]
  },
  {
   "cell_type": "code",
   "execution_count": 8,
   "metadata": {
    "scrolled": false
   },
   "outputs": [
    {
     "data": {
      "text/plain": [
       "<matplotlib.axes._subplots.AxesSubplot at 0x7fed740bab38>"
      ]
     },
     "execution_count": 8,
     "metadata": {},
     "output_type": "execute_result"
    },
    {
     "data": {
      "image/png": "[encoded data removed]",
      "text/plain": [
       "<matplotlib.figure.Figure at 0x7fed7409b400>"
      ]
     },
     "metadata": {},
     "output_type": "display_data"
    }
   ],
   "source": [
    "pd.Series(skewnorm.rvs(-10, size=1000)).hist()"
   ]
  },
  {
   "cell_type": "markdown",
   "metadata": {},
   "source": [
    "# 2. Measures of Center"
   ]
  },
  {
   "cell_type": "markdown",
   "metadata": {},
   "source": [
    "## Sample Mean $\\bar{x}$\n",
    "pronounced \"x-bar\"\n",
    "## $\\bar{x}= \\frac{ \\sideset{}{_{i=1}^n}\\sum X_i }{n}$"
   ]
  },
  {
   "cell_type": "markdown",
   "metadata": {},
   "source": [
    "## Population Mean $\\mu$\n",
    "## $\\mu= \\frac{ \\sideset{}{_{i=1}^N}\\sum X_i }{N}$"
   ]
  },
  {
   "cell_type": "markdown",
   "metadata": {},
   "source": [
    "## Median\n",
    "- 50th percentile\n",
    "- Not affected by extreme values"
   ]
  },
  {
   "cell_type": "markdown",
   "metadata": {},
   "source": [
    "# 3. Measures of Variation"
   ]
  },
  {
   "cell_type": "markdown",
   "metadata": {},
   "source": [
    "## Range"
   ]
  },
  {
   "cell_type": "markdown",
   "metadata": {},
   "source": [
    "## Standard Deviation\n",
    "- sensitive to extreme values"
   ]
  },
  {
   "cell_type": "markdown",
   "metadata": {},
   "source": [
    "### Sample Standard Deviation - s\n",
    "## $s = \\sqrt{\\frac{\\sideset{}{_{i=1}^n}\\sum(x_i - \\bar{x})^2}{n-1}}$"
   ]
  },
  {
   "cell_type": "markdown",
   "metadata": {},
   "source": [
    "### Population Standard Deviation - σ (lower case sigma).\n",
    "## $\\sigma = \\sqrt{\\frac{\\sideset{}{_{i=1}^N}\\sum(x_i - \\mu)^2}{N}}$"
   ]
  },
  {
   "cell_type": "code",
   "execution_count": 9,
   "metadata": {},
   "outputs": [
    {
     "name": "stdout",
     "output_type": "stream",
     "text": [
      "Sample std: 2.08166599947\n",
      "Population std: 1.80277563773\n"
     ]
    }
   ],
   "source": [
    "print('Sample std:', np.std([1, 3, 4, 6], ddof=1))\n",
    "print('Population std:', np.std([1, 3, 4, 6]))"
   ]
  },
  {
   "cell_type": "markdown",
   "metadata": {},
   "source": [
    "## Variance\n",
    "square of the sample standard deviation\n",
    "\n",
    "- sample variance = $s^2$\n",
    "- population variance = $σ^2$\n",
    "\n",
    "\n"
   ]
  },
  {
   "cell_type": "code",
   "execution_count": 11,
   "metadata": {},
   "outputs": [
    {
     "name": "stdout",
     "output_type": "stream",
     "text": [
      "Sample variance: 4.33333333333\n",
      "Population variance: 3.25\n"
     ]
    }
   ],
   "source": [
    "# to get smaple std use ddof=1 !!!!\n",
    "print('Sample variance:', np.square(np.std([1, 3, 4, 6], ddof=1)) )\n",
    "print('Population variance:', np.square(np.std([1, 3, 4, 6])))"
   ]
  },
  {
   "cell_type": "markdown",
   "metadata": {},
   "source": [
    "# 4. Normal Distribution"
   ]
  },
  {
   "cell_type": "markdown",
   "metadata": {},
   "source": [
    "## Standard Normal Distribution\n",
    "- Mean (μ) = 0\n",
    "- standard deviation (σ) = 1"
   ]
  },
  {
   "cell_type": "code",
   "execution_count": 12,
   "metadata": {
    "scrolled": false
   },
   "outputs": [
    {
     "data": {
      "text/plain": [
       "<matplotlib.collections.PolyCollection at 0x7fed7404e2e8>"
      ]
     },
     "execution_count": 12,
     "metadata": {},
     "output_type": "execute_result"
    },
    {
     "data": {
      "image/png": "[encoded data removed]",
      "text/plain": [
       "<matplotlib.figure.Figure at 0x7fed7404e9e8>"
      ]
     },
     "metadata": {},
     "output_type": "display_data"
    }
   ],
   "source": [
    "x = np.arange(start=-4, stop=4, step=.1)\n",
    "y = norm.pdf(x)\n",
    "\n",
    "plt.plot(x, y)\n",
    "plt.fill_between(x, y)"
   ]
  },
  {
   "cell_type": "markdown",
   "metadata": {},
   "source": [
    "## Z-Score\n",
    "- number of standard deviations away from the mean in a normal standard distribution\n",
    "- [z table](http://www.stat.ufl.edu/~athienit/Tables/Ztable.pdf) maps z score to probabilities\n",
    "\n",
    "## To convert non normal standard distribution to normal:\n",
    "\n",
    "## $z = \\frac{x-μ}{σ}$\n",
    "\n",
    "## Inverse:\n",
    "## $x = μ + zσ$"
   ]
  },
  {
   "cell_type": "code",
   "execution_count": 13,
   "metadata": {},
   "outputs": [
    {
     "name": "stdout",
     "output_type": "stream",
     "text": [
      "Probability is: 0.841344746069\n"
     ]
    }
   ],
   "source": [
    "# Example shoes sizes:\n",
    "μ = 10\n",
    "σ = 2\n",
    "# what % has less than 12\n",
    "\n",
    "# convert value to z\n",
    "z = (12 - μ) / σ\n",
    "# from z-table:\n",
    "P = z_to_P(z)\n",
    "print('Probability is:', P)"
   ]
  },
  {
   "cell_type": "code",
   "execution_count": 14,
   "metadata": {},
   "outputs": [
    {
     "name": "stdout",
     "output_type": "stream",
     "text": [
      "Score at bottom 20%: 87.3756814964\n",
      "Score at top 10%: 119.223273483\n"
     ]
    }
   ],
   "source": [
    "# Example revese IQ scores:\n",
    "μ = 100\n",
    "σ = 15\n",
    "# what score is at bottom 20%\n",
    "\n",
    "# from z-table:\n",
    "z = P_to_z(.2)\n",
    "# convert z to value\n",
    "score = μ + z * σ\n",
    "\n",
    "print('Score at bottom 20%:', score)\n",
    "\n",
    "# what score is at top 10%\n",
    "z = P_to_z(.1) * -1\n",
    "score = μ + z * σ\n",
    "\n",
    "print('Score at top 10%:', score)"
   ]
  },
  {
   "cell_type": "markdown",
   "metadata": {
    "collapsed": true
   },
   "source": [
    "# 5. Central Limit Theorem\n",
    "(means of samples)\n",
    "- are in normal distribution, the population could have any distribution\n",
    "- general rule - n of 30 would create normal distribution for sure, could be less\n",
    "- have the same mean as original distribution\n",
    "- standard diviation (standard error of the mean) gets smaller with more samples - n\n",
    "\n",
    "$μ_\\bar{x} = μ_x$\n",
    "\n",
    "$σ_\\bar{x} = \\frac{σ_x}{\\sqrt{n}} $\n",
    "\n",
    "## $z = \\frac{\\bar{x}-μ}{σ_\\bar{x}}=\\frac{\\bar{x}-μ}{\\frac{σ_x}{\\sqrt{n}}}$\n"
   ]
  },
  {
   "cell_type": "code",
   "execution_count": 15,
   "metadata": {},
   "outputs": [
    {
     "name": "stdout",
     "output_type": "stream",
     "text": [
      "Probability to draw one with socre > 590 is  0.234774121707\n",
      "Probability to draw 16 with mean socre > 590 is  0.00190877444424\n"
     ]
    }
   ],
   "source": [
    "# Example:\n",
    "# Verbal SAT scores\n",
    "\n",
    "μ = 509\n",
    "σ = 112\n",
    "\n",
    "# Chanse to draw one with socre > 590\n",
    "\n",
    "z = (590 - μ) / σ\n",
    "#z = .72\n",
    "P = 1 - z_to_P(z)\n",
    "\n",
    "print('Probability to draw one with socre > 590 is ', P)\n",
    "\n",
    "# Chanse to draw 16 with mean socre > 590\n",
    "n = 16\n",
    "σ_16 = σ / np.sqrt(n)\n",
    "z = (590 - μ) / σ_16\n",
    "P = 1 - z_to_P(z)\n",
    "\n",
    "print('Probability to draw 16 with mean socre > 590 is ', P)"
   ]
  },
  {
   "cell_type": "markdown",
   "metadata": {},
   "source": [
    "# 6. Confidence Intervals for Means\n",
    "\n",
    "- margin of error - E\n",
    "- for known population σ_x:\n",
    "\n",
    "95% confidence = ⍺ of 0.05 and $\\frac{⍺}{2}$ = 0.025\n",
    "\n",
    "\n",
    "## $E = z_\\frac{⍺}{2} \\frac{σ_x}{\\sqrt{n}} $\n",
    "- for unknown population σ_x we take sample std $σ_\\bar{x}$ and use [t-table](https://s3-us-west-2.amazonaws.com/smu-mds/prod/Bridge+to+Statistics/T+Table/t-table.pdf):\n",
    "\n",
    "## $E = t_\\frac{⍺}{2} \\frac{s}{\\sqrt{n}} $\n",
    "\n",
    "example: t of ⍺ = .005 for 7 samples ( row 6 ) = 3.707\n",
    "\n",
    "[SAS screenflow](https://2ds.datascience.smu.edu/mod/page/view.php?id=4247#/cardContent)"
   ]
  },
  {
   "cell_type": "code",
   "execution_count": 16,
   "metadata": {},
   "outputs": [
    {
     "name": "stdout",
     "output_type": "stream",
     "text": [
      "with know σ, population mean with 95 confidence is in interval: (24.61230183504393, 35.101983879241786)\n",
      "with unknow σ, population mean with 95 confidence is in Interval: (23.309234965348502, 36.405050748937214)\n"
     ]
    }
   ],
   "source": [
    "# Example with known std of population\n",
    "\n",
    "ages = [25, 19, 37, 29, 40, 28, 31]\n",
    "n = len(ages) # 7\n",
    "σ = 7.08 \n",
    "x = np.mean(ages) # 29.857142857142858\n",
    "\n",
    "# what is the true population mean with 95 confidence Interval?\n",
    "alpha = .05\n",
    "z_halph_alpha = P_to_z(alpha/2) * -1\n",
    "\n",
    "E = z_halph_alpha * σ / np.sqrt(n)\n",
    "\n",
    "inerval = (x - E, x + E)\n",
    "print('with know σ, population mean with 95 confidence is in interval:', inerval)\n",
    "\n",
    "# what is the true population mean with 95 confidence Interval when we don't know sigma?\n",
    "s = np.std(ages)\n",
    "s = 7.08\n",
    "df = n -1\n",
    "t = P_to_t(.025, df) * -1\n",
    "E = t * s / np.sqrt(n)\n",
    "\n",
    "inerval = (x - E, x + E)\n",
    "print('with unknow σ, population mean with 95 confidence is in Interval:', inerval)"
   ]
  },
  {
   "cell_type": "markdown",
   "metadata": {},
   "source": [
    "## Two-Sample difference of means\n",
    "( produces normal distribution )\n",
    "\n",
    "## $μ_\\text{12} = μ_1 - μ_2$\n",
    "\n",
    "### With known σ for populations:\n",
    "\n",
    "## $σ_\\text{12} = \\sqrt{\\frac{σ_1^2}{n_1} + \\frac{σ_2^2}{n_2}}$\n",
    "\n",
    "## $E = z_\\frac{⍺}{2} σ_\\text{12}$\n",
    "\n",
    "### When unknown stds but assume stds of the the populations are the same:\n",
    "\n",
    "## $S_\\text{12} = \\sqrt{\\frac{(n_1 - 1) s_1^2 + (n_2 - 1) s_2^2}{n_1 + n_2 -2}}$\n",
    "\n",
    "## $E = t_\\text{⍺/2,df} S_\\text{12} \\sqrt{\\frac{1}{n_1} + \\frac{1}{n_2}}$\n",
    "\n",
    " $df$ - degrees of freedom = $n_1 + n_2 - 2$"
   ]
  },
  {
   "cell_type": "code",
   "execution_count": 17,
   "metadata": {},
   "outputs": [
    {
     "name": "stdout",
     "output_type": "stream",
     "text": [
      "With 90% confidents, the true difference in means is in the interval: (0.0080122452684534551, 6.0383877547315379)\n"
     ]
    }
   ],
   "source": [
    "# Example:\n",
    "# IBM success age disrimination check\n",
    "\n",
    "x_u = 46.9565 # unsuccessful\n",
    "x_s = 43.9333 # successful\n",
    "\n",
    "n_u = 23\n",
    "n_s = 30\n",
    "\n",
    "# std for the tow is the same so it comes from a pool\n",
    "sp = 6.494\n",
    "aplha = .1\n",
    "df = n_u + n_s - 2\n",
    "t = P_to_t(aplha / 2, df) * -1\n",
    "\n",
    "E = t * sp * np.sqrt(1 / n_u + 1 / n_s)\n",
    "\n",
    "x_estimate = x_u - x_s\n",
    "interval = (x_estimate - E, x_estimate + E)\n",
    "print('With 90% confidents, the true difference in means is in the interval:', interval)"
   ]
  },
  {
   "cell_type": "markdown",
   "metadata": {},
   "source": [
    "# 7. Hypothesis Testing Means"
   ]
  },
  {
   "cell_type": "code",
   "execution_count": 18,
   "metadata": {
    "collapsed": true
   },
   "outputs": [],
   "source": [
    "# Example:\n",
    "# Test claim that mean of all bats in 1.9\n",
    "\n",
    "x = 1.75\n",
    "S = .2449\n",
    "n = 8\n",
    "df = 7"
   ]
  },
  {
   "cell_type": "markdown",
   "metadata": {},
   "source": [
    "- 1:<br>\n",
    "Ho: μ = 1.9 <br>\n",
    "Ha: μ ≠ 1.9\n",
    "- 2:<br>\n",
    "Draw, shade and get border t values<br>\n",
    "⍺ = .05<br>\n",
    "one side = .025"
   ]
  },
  {
   "cell_type": "code",
   "execution_count": 19,
   "metadata": {
    "collapsed": true
   },
   "outputs": [],
   "source": [
    "t_lborder = P_to_t(.025, df) # -2.3646242510103002"
   ]
  },
  {
   "cell_type": "markdown",
   "metadata": {},
   "source": [
    "- 3:\n",
    "## $t =\\frac{x-μ}{\\frac{S}{\\sqrt{n}}}$"
   ]
  },
  {
   "cell_type": "code",
   "execution_count": 20,
   "metadata": {
    "collapsed": true
   },
   "outputs": [],
   "source": [
    "t = (x - 1.9) / (S / np.sqrt(n)) # -1.7323971772638964"
   ]
  },
  {
   "cell_type": "code",
   "execution_count": 21,
   "metadata": {
    "collapsed": true
   },
   "outputs": [],
   "source": [
    "Pval = t_to_P(t, df)"
   ]
  },
  {
   "cell_type": "markdown",
   "metadata": {},
   "source": [
    "- 4:\n",
    "Pval = 0.12680634791992446 > .05\n",
    "- 5:\n",
    "Fail to reject Ho hipotesis\n",
    "- 6:\n",
    "There is not enough evidence to sugest that the mean weight of this speacis is not equal to 1.9 ( Pval = .1269 )"
   ]
  },
  {
   "cell_type": "code",
   "execution_count": 22,
   "metadata": {},
   "outputs": [
    {
     "data": {
      "text/plain": [
       "-2.6757222341106464"
      ]
     },
     "execution_count": 22,
     "metadata": {},
     "output_type": "execute_result"
    }
   ],
   "source": [
    "P_to_t(0.005, 29 + 24 - 2)"
   ]
  },
  {
   "cell_type": "markdown",
   "metadata": {},
   "source": [
    "# Two sample Hypothesis Test\n",
    "\n",
    "## $t = \\frac{\\bar{x_1} - \\bar{x_2}}{Sp \\sqrt{ \\frac{1}{n_1} + \\frac{1}{n_2} }}$"
   ]
  },
  {
   "cell_type": "code",
   "execution_count": 23,
   "metadata": {},
   "outputs": [
    {
     "data": {
      "text/plain": [
       "-0.88176529766182266"
      ]
     },
     "execution_count": 23,
     "metadata": {},
     "output_type": "execute_result"
    }
   ],
   "source": [
    "n1 = 5 \n",
    "x1 = -1.2\n",
    "\n",
    "n2 = 5\n",
    "x2 = 1.\n",
    "\n",
    "sp = 1.57797338380595\n",
    "\n",
    "t = (x1 - x2) / sp * np.sqrt(1/n1 + 1/n2)\n",
    "t"
   ]
  },
  {
   "cell_type": "code",
   "execution_count": 24,
   "metadata": {},
   "outputs": [
    {
     "data": {
      "text/plain": [
       "-2.1788128296634182"
      ]
     },
     "execution_count": 24,
     "metadata": {},
     "output_type": "execute_result"
    }
   ],
   "source": [
    "P_to_t(.025, 12)"
   ]
  },
  {
   "cell_type": "code",
   "execution_count": 25,
   "metadata": {},
   "outputs": [
    {
     "data": {
      "text/plain": [
       "0.057058442238952706"
      ]
     },
     "execution_count": 25,
     "metadata": {},
     "output_type": "execute_result"
    }
   ],
   "source": [
    "t_to_P(2.35, 6)"
   ]
  }
 ],
 "metadata": {
  "kernelspec": {
   "display_name": "Python 3",
   "language": "python",
   "name": "python3"
  },
  "language_info": {
   "codemirror_mode": {
    "name": "ipython",
    "version": 3
   },
   "file_extension": ".py",
   "mimetype": "text/x-python",
   "name": "python",
   "nbconvert_exporter": "python",
   "pygments_lexer": "ipython3",
   "version": "3.5.2"
  }
 },
 "nbformat": 4,
 "nbformat_minor": 2
}
