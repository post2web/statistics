{
 "cells": [
  {
   "cell_type": "markdown",
   "metadata": {},
   "source": [
    "\n",
    "$$c = \\sqrt{a^2 + b^2}$$\n",
    "$$f(x) = x^2$$\n",
    "\n",
    "\\begin{align*}\n",
    "  1 + 2 &= 3\\\\\n",
    "  1 &= 3 - 2\n",
    "\\end{align*}\n",
    "\n",
    "\n",
    "\\begin{equation*}\n",
    "  1 + 2 = 3 \n",
    "\\end{equation*}\n",
    "\n",
    "\\begin{align*}\n",
    "  f(x) &= x^2\\\\\n",
    "  g(x) &= \\frac{1}{x}\\\\\n",
    "  F(x) &= \\int^a_b \\frac{1}{3}x^3\n",
    "\\end{align*}\n",
    "\n",
    "$$a = \\frac{1}{x}$$"
   ]
  },
  {
   "cell_type": "markdown",
   "metadata": {},
   "source": [
    "# sumbols:\n",
    "- http://latex.wikia.com/wiki/List_of_LaTeX_symbols\n",
    "- http://web.ift.uib.no/Teori/KURS/WRK/TeX/symALL.html"
   ]
  },
  {
   "cell_type": "code",
   "execution_count": null,
   "metadata": {
    "collapsed": true
   },
   "outputs": [],
   "source": []
  }
 ],
 "metadata": {
  "kernelspec": {
   "display_name": "Python 3",
   "language": "python",
   "name": "python3"
  },
  "language_info": {
   "codemirror_mode": {
    "name": "ipython",
    "version": 3
   },
   "file_extension": ".py",
   "mimetype": "text/x-python",
   "name": "python",
   "nbconvert_exporter": "python",
   "pygments_lexer": "ipython3",
   "version": "3.5.2"
  }
 },
 "nbformat": 4,
 "nbformat_minor": 2
}
