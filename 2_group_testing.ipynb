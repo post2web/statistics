{
 "cells": [
  {
   "cell_type": "code",
   "execution_count": 4,
   "metadata": {
    "collapsed": true
   },
   "outputs": [],
   "source": [
    "%matplotlib inline\n",
    "from scipy import stats"
   ]
  },
  {
   "cell_type": "markdown",
   "metadata": {},
   "source": [
    "# T-test (Parametric)\n",
    "* If you have normality and/or large samples that aren’t “too weird”, you should use a parametric test.\n",
    "* they are tests for mens\n",
    "* if data is log transformed then you test medians"
   ]
  },
  {
   "cell_type": "markdown",
   "metadata": {},
   "source": [
    "# 2-sample t-test\n",
    "* tests whether the true population mean of two groups is different.\n",
    "* P-value shows the probability that the populations mean equals."
   ]
  },
  {
   "cell_type": "markdown",
   "metadata": {},
   "source": [
    "### Data for 2 grups:"
   ]
  },
  {
   "cell_type": "code",
   "execution_count": 2,
   "metadata": {},
   "outputs": [
    {
     "name": "stdout",
     "output_type": "stream",
     "text": [
      "Sample 1 mean: 59.3875 | Sample 2 mean: 74.1\n"
     ]
    }
   ],
   "source": [
    "s1 = [63.8, 56.4, 55.2, 58.5, 64.0, 51.6, 54.6, 71.0]\n",
    "s2 = [75.5, 83.9, 75.7, 72.5, 56.2, 73.4, 67.7, 87.9]\n",
    "print('Sample 1 mean:', np.mean(s1), '| Sample 2 mean:', np.mean(s2))"
   ]
  },
  {
   "cell_type": "markdown",
   "metadata": {},
   "source": [
    "### With Pooled std:"
   ]
  },
  {
   "cell_type": "code",
   "execution_count": 7,
   "metadata": {
    "scrolled": true
   },
   "outputs": [
    {
     "name": "stdout",
     "output_type": "stream",
     "text": [
      "test statisic:  -3.58752154254\n",
      "pvalue: 0.00297115145528\n",
      "The probability that the two distributions have equal means is  0.00297115145528\n"
     ]
    }
   ],
   "source": [
    "tstat, pvalue = stats.ttest_ind(s1, s2)\n",
    "print('test statisic: ', tstat)\n",
    "print('pvalue:', pvalue)\n",
    "print('The probability that the two distributions have equal means is ', pvalue)"
   ]
  },
  {
   "cell_type": "markdown",
   "metadata": {},
   "source": [
    "## Confidence intervals for difference in means with pooled std"
   ]
  },
  {
   "cell_type": "code",
   "execution_count": 12,
   "metadata": {},
   "outputs": [
    {
     "name": "stdout",
     "output_type": "stream",
     "text": [
      "(-23.508314539874313, -5.9166854601256968)\n"
     ]
    }
   ],
   "source": [
    "from statsmodels.stats.weightstats import CompareMeans, DescrStatsW\n",
    "\n",
    "cm = CompareMeans(DescrStatsW(s1), DescrStatsW(s2))\n",
    "print(cm.tconfint_diff(alpha=0.05, alternative='two-sided', usevar='pooled'))"
   ]
  },
  {
   "cell_type": "markdown",
   "metadata": {},
   "source": [
    "## Without assuming std is the same:"
   ]
  },
  {
   "cell_type": "code",
   "execution_count": 10,
   "metadata": {},
   "outputs": [
    {
     "name": "stdout",
     "output_type": "stream",
     "text": [
      "test statisic:  -3.58752154254\n",
      "pvalue of the t-test: 0.00366705074373\n",
      "The probability that the two distributions have equal means is  0.00366705074373\n"
     ]
    }
   ],
   "source": [
    "tstat, pvalue = stats.ttest_ind(s1, s2, equal_var=False)\n",
    "print('test statisic: ', tstat)\n",
    "print('pvalue of the t-test:', pvalue)\n",
    "print('The probability that the two distributions have equal means is ', pvalue)"
   ]
  },
  {
   "cell_type": "markdown",
   "metadata": {},
   "source": [
    "## Confidence intervals for difference in means with inequal sdt"
   ]
  },
  {
   "cell_type": "code",
   "execution_count": 14,
   "metadata": {},
   "outputs": [
    {
     "name": "stdout",
     "output_type": "stream",
     "text": [
      "(-23.63669302806246, -5.7883069719375513)\n"
     ]
    }
   ],
   "source": [
    "from statsmodels.stats.weightstats import CompareMeans, DescrStatsW\n",
    "\n",
    "cm = CompareMeans(DescrStatsW(s1), DescrStatsW(s2))\n",
    "print(cm.tconfint_diff(alpha=0.05, alternative='two-sided', usevar='unequal'))"
   ]
  },
  {
   "cell_type": "markdown",
   "metadata": {},
   "source": [
    "# 2-sample non parametric test"
   ]
  },
  {
   "cell_type": "markdown",
   "metadata": {},
   "source": [
    "### Mann-Whitney rank test"
   ]
  },
  {
   "cell_type": "code",
   "execution_count": 22,
   "metadata": {},
   "outputs": [
    {
     "name": "stdout",
     "output_type": "stream",
     "text": [
      "test statisic:  -2.73054616385\n",
      "p-value: 0.00632294769581\n"
     ]
    }
   ],
   "source": [
    "a = [63.8, 56.4, 55.2, 58.5, 64.0, 51.6, 54.6, 71.0]\n",
    "b = [75.5, 83.9, 75.7, 72.5, 56.2, 73.4, 67.7, 87.9]\n",
    "\n",
    "tstat, pvalue = stats.ranksums(a, b)\n",
    "print('test statisic: ', tstat)\n",
    "print('p-value:', pvalue)"
   ]
  },
  {
   "cell_type": "markdown",
   "metadata": {},
   "source": [
    "### Kruskal-Wallis H-test"
   ]
  },
  {
   "cell_type": "code",
   "execution_count": 21,
   "metadata": {},
   "outputs": [
    {
     "name": "stdout",
     "output_type": "stream",
     "text": [
      "test statisic:  7.45588235294\n",
      "p-value: 0.00632294769581\n"
     ]
    }
   ],
   "source": [
    "a = [63.8, 56.4, 55.2, 58.5, 64.0, 51.6, 54.6, 71.0]\n",
    "b = [75.5, 83.9, 75.7, 72.5, 56.2, 73.4, 67.7, 87.9]\n",
    "\n",
    "tstat, pvalue = stats.mstats.kruskalwallis(a, b)\n",
    "print('test statisic: ', tstat)\n",
    "print('p-value:', pvalue)"
   ]
  }
 ],
 "metadata": {
  "kernelspec": {
   "display_name": "Python 3",
   "language": "python",
   "name": "python3"
  },
  "language_info": {
   "codemirror_mode": {
    "name": "ipython",
    "version": 3
   },
   "file_extension": ".py",
   "mimetype": "text/x-python",
   "name": "python",
   "nbconvert_exporter": "python",
   "pygments_lexer": "ipython3",
   "version": "3.5.2"
  }
 },
 "nbformat": 4,
 "nbformat_minor": 2
}
