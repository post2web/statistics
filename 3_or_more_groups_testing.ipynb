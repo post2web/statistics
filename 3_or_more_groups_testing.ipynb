{
 "cells": [
  {
   "cell_type": "code",
   "execution_count": 1,
   "metadata": {
    "collapsed": true
   },
   "outputs": [],
   "source": [
    "import statsmodels.api as sm\n",
    "from statsmodels.formula.api import ols\n",
    "from scipy import stats"
   ]
  },
  {
   "cell_type": "markdown",
   "metadata": {},
   "source": [
    "# Parametric test - one way ANOVA\n",
    "### Analysis of Variance models\n",
    "The Assumptions of the ANOVA are:\n",
    "1.\tThe values in each group come from a normal distribution.\n",
    "2.\tThe variances of these normal distributions are equal.\n",
    "3.\tThe data are independent within each group.\n",
    "4.\tThe data independent between each group.\n",
    "\n",
    "\n",
    "The goal is to find out if atleast one of the groups have different mean then the others\n",
    "\n",
    "---\n",
    "\n",
    "With a p-value less than 0.0001, there is sufficient evidence to conclude that at least two of the judges have different mean of the target variable \"pct_women\".\n",
    "\n",
    "# Help:\n",
    "* [interactions](http://www.statsmodels.org/devel/examples/notebooks/generated/interactions_anova.html)"
   ]
  },
  {
   "cell_type": "code",
   "execution_count": 15,
   "metadata": {
    "scrolled": true
   },
   "outputs": [
    {
     "name": "stdout",
     "output_type": "stream",
     "text": [
      "P-value 6.09582276794e-05\n"
     ]
    },
    {
     "data": {
      "text/html": [
       "<div>\n",
       "<table border=\"1\" class=\"dataframe\">\n",
       "  <thead>\n",
       "    <tr style=\"text-align: right;\">\n",
       "      <th></th>\n",
       "      <th>sum_sq</th>\n",
       "      <th>df</th>\n",
       "      <th>F</th>\n",
       "      <th>PR(&gt;F)</th>\n",
       "    </tr>\n",
       "  </thead>\n",
       "  <tbody>\n",
       "    <tr>\n",
       "      <th>C(judge)</th>\n",
       "      <td>1927.080865</td>\n",
       "      <td>6.0</td>\n",
       "      <td>6.718366</td>\n",
       "      <td>0.000061</td>\n",
       "    </tr>\n",
       "    <tr>\n",
       "      <th>Residual</th>\n",
       "      <td>1864.445222</td>\n",
       "      <td>39.0</td>\n",
       "      <td>NaN</td>\n",
       "      <td>NaN</td>\n",
       "    </tr>\n",
       "  </tbody>\n",
       "</table>\n",
       "</div>"
      ],
      "text/plain": [
       "               sum_sq    df         F    PR(>F)\n",
       "C(judge)  1927.080865   6.0  6.718366  0.000061\n",
       "Residual  1864.445222  39.0       NaN       NaN"
      ]
     },
     "execution_count": 15,
     "metadata": {},
     "output_type": "execute_result"
    }
   ],
   "source": [
    "# test data\n",
    "data = [\n",
    "[6.4, \"Spock's\"],\n",
    "[8.7, \"Spock's\"],\n",
    "[13.3, \"Spock's\"],\n",
    "[13.6, \"Spock's\"],\n",
    "[15.0, \"Spock's\"],\n",
    "[15.2, \"Spock's\"],\n",
    "[17.7, \"Spock's\"],\n",
    "[18.6, \"Spock's\"],\n",
    "[23.1, \"Spock's\"],\n",
    "[16.8, \"A\"],\n",
    "[30.8, \"A\"],\n",
    "[33.6, \"A\"],\n",
    "[40.5, \"A\"],\n",
    "[48.9, \"A\"],\n",
    "[27.0, \"B\"],\n",
    "[28.9, \"B\"],\n",
    "[32.0, \"B\"],\n",
    "[32.7, \"B\"],\n",
    "[35.5, \"B\"],\n",
    "[45.6, \"B\"],\n",
    "[21.0, \"C\"],\n",
    "[23.4, \"C\"],\n",
    "[27.5, \"C\"],\n",
    "[27.5, \"C\"],\n",
    "[30.5, \"C\"],\n",
    "[31.9, \"C\"],\n",
    "[32.5, \"C\"],\n",
    "[33.8, \"C\"],\n",
    "[33.8, \"C\"],\n",
    "[24.3, \"D\"],\n",
    "[29.7, \"D\"],\n",
    "[17.7, \"E\"],\n",
    "[19.7, \"E\"],\n",
    "[21.5, \"E\"],\n",
    "[27.9, \"E\"],\n",
    "[34.8, \"E\"],\n",
    "[40.2, \"E\"],\n",
    "[16.5, \"F\"],\n",
    "[20.7, \"F\"],\n",
    "[23.5, \"F\"],\n",
    "[26.4, \"F\"],\n",
    "[26.7, \"F\"],\n",
    "[29.5, \"F\"],\n",
    "[29.8, \"F\"],\n",
    "[31.9, \"F\"],\n",
    "[36.2, \"F\"]\n",
    "];\n",
    "data = pd.DataFrame(data, columns=['pct_women', 'judge'])\n",
    "\n",
    "# first fit a linear regression\n",
    "mod = ols('pct_women ~ C(judge)', data=data).fit()\n",
    "\n",
    "# now do ANOVA\n",
    "anova_table = sm.stats.anova_lm(mod)\n",
    "# anova_table is a DataFrame\n",
    "print('P-value', anova_table['PR(>F)'].iloc[0])\n",
    "anova_table"
   ]
  },
  {
   "cell_type": "code",
   "execution_count": 24,
   "metadata": {},
   "outputs": [
    {
     "name": "stdout",
     "output_type": "stream",
     "text": [
      "P-value 0.931118241441\n"
     ]
    },
    {
     "name": "stderr",
     "output_type": "stream",
     "text": [
      "/usr/local/lib/python3.5/dist-packages/scipy/stats/_distn_infrastructure.py:879: RuntimeWarning: invalid value encountered in greater\n",
      "  return (self.a < x) & (x < self.b)\n",
      "/usr/local/lib/python3.5/dist-packages/scipy/stats/_distn_infrastructure.py:879: RuntimeWarning: invalid value encountered in less\n",
      "  return (self.a < x) & (x < self.b)\n",
      "/usr/local/lib/python3.5/dist-packages/scipy/stats/_distn_infrastructure.py:1818: RuntimeWarning: invalid value encountered in less_equal\n",
      "  cond2 = cond0 & (x <= self.a)\n"
     ]
    },
    {
     "data": {
      "text/html": [
       "<div>\n",
       "<table border=\"1\" class=\"dataframe\">\n",
       "  <thead>\n",
       "    <tr style=\"text-align: right;\">\n",
       "      <th></th>\n",
       "      <th>df</th>\n",
       "      <th>sum_sq</th>\n",
       "      <th>mean_sq</th>\n",
       "      <th>F</th>\n",
       "      <th>PR(&gt;F)</th>\n",
       "    </tr>\n",
       "  </thead>\n",
       "  <tbody>\n",
       "    <tr>\n",
       "      <th>C(judge)</th>\n",
       "      <td>1.0</td>\n",
       "      <td>0.690939</td>\n",
       "      <td>0.690939</td>\n",
       "      <td>0.007901</td>\n",
       "      <td>0.931118</td>\n",
       "    </tr>\n",
       "    <tr>\n",
       "      <th>Residual</th>\n",
       "      <td>9.0</td>\n",
       "      <td>787.056333</td>\n",
       "      <td>87.450704</td>\n",
       "      <td>NaN</td>\n",
       "      <td>NaN</td>\n",
       "    </tr>\n",
       "  </tbody>\n",
       "</table>\n",
       "</div>"
      ],
      "text/plain": [
       "           df      sum_sq    mean_sq         F    PR(>F)\n",
       "C(judge)  1.0    0.690939   0.690939  0.007901  0.931118\n",
       "Residual  9.0  787.056333  87.450704       NaN       NaN"
      ]
     },
     "execution_count": 24,
     "metadata": {},
     "output_type": "execute_result"
    }
   ],
   "source": [
    "d = data.copy()\n",
    "d=d[d['judge'].isin(['A', 'B'])]\n",
    "#d['judge'] = d['judge'] == 'Spock\\'s'\n",
    "\n",
    "mod = ols('pct_women ~ C(judge)', data=d).fit()\n",
    "\n",
    "# now do ANOVA\n",
    "anova_table = sm.stats.anova_lm(mod, typ=1)\n",
    "# anova_table is a DataFrame\n",
    "print('P-value', anova_table['PR(>F)'].iloc[0])\n",
    "anova_table"
   ]
  },
  {
   "cell_type": "code",
   "execution_count": 9,
   "metadata": {
    "scrolled": false
   },
   "outputs": [
    {
     "data": {
      "text/html": [
       "<table class=\"simpletable\">\n",
       "<caption>Multiple Comparison of Means - Tukey HSD,FWER=0.05</caption>\n",
       "<tr>\n",
       "  <th>group1</th> <th>group2</th>  <th>meandiff</th>   <th>lower</th>   <th>upper</th>  <th>reject</th>\n",
       "</tr>\n",
       "<tr>\n",
       "     <td>A</td>      <td>B</td>     <td>-0.5033</td> <td>-13.5125</td> <td>12.5058</td>  <td>False</td>\n",
       "</tr>\n",
       "<tr>\n",
       "     <td>A</td>      <td>C</td>      <td>-5.02</td>  <td>-17.0032</td> <td>6.9632</td>   <td>False</td>\n",
       "</tr>\n",
       "<tr>\n",
       "     <td>A</td>      <td>D</td>      <td>-7.12</td>  <td>-25.0948</td> <td>10.8548</td>  <td>False</td>\n",
       "</tr>\n",
       "<tr>\n",
       "     <td>A</td>      <td>E</td>     <td>-7.1533</td> <td>-20.1625</td> <td>5.8558</td>   <td>False</td>\n",
       "</tr>\n",
       "<tr>\n",
       "     <td>A</td>      <td>F</td>      <td>-7.32</td>  <td>-19.3032</td> <td>4.6632</td>   <td>False</td>\n",
       "</tr>\n",
       "<tr>\n",
       "     <td>A</td>   <td>Spock's</td> <td>-19.4978</td>  <td>-31.481</td> <td>-7.5146</td>  <td>True</td> \n",
       "</tr>\n",
       "<tr>\n",
       "     <td>B</td>      <td>C</td>     <td>-4.5167</td> <td>-15.8397</td> <td>6.8064</td>   <td>False</td>\n",
       "</tr>\n",
       "<tr>\n",
       "     <td>B</td>      <td>D</td>     <td>-6.6167</td> <td>-24.1582</td> <td>10.9249</td>  <td>False</td>\n",
       "</tr>\n",
       "<tr>\n",
       "     <td>B</td>      <td>E</td>      <td>-6.65</td>  <td>-19.0538</td> <td>5.7538</td>   <td>False</td>\n",
       "</tr>\n",
       "<tr>\n",
       "     <td>B</td>      <td>F</td>     <td>-6.8167</td> <td>-18.1397</td> <td>4.5064</td>   <td>False</td>\n",
       "</tr>\n",
       "<tr>\n",
       "     <td>B</td>   <td>Spock's</td> <td>-18.9944</td> <td>-30.3175</td> <td>-7.6714</td>  <td>True</td> \n",
       "</tr>\n",
       "<tr>\n",
       "     <td>C</td>      <td>D</td>      <td>-2.1</td>   <td>-18.8948</td> <td>14.6948</td>  <td>False</td>\n",
       "</tr>\n",
       "<tr>\n",
       "     <td>C</td>      <td>E</td>     <td>-2.1333</td> <td>-13.4564</td> <td>9.1897</td>   <td>False</td>\n",
       "</tr>\n",
       "<tr>\n",
       "     <td>C</td>      <td>F</td>      <td>-2.3</td>   <td>-12.4276</td> <td>7.8276</td>   <td>False</td>\n",
       "</tr>\n",
       "<tr>\n",
       "     <td>C</td>   <td>Spock's</td> <td>-14.4778</td> <td>-24.6054</td> <td>-4.3501</td>  <td>True</td> \n",
       "</tr>\n",
       "<tr>\n",
       "     <td>D</td>      <td>E</td>     <td>-0.0333</td> <td>-17.5749</td> <td>17.5082</td>  <td>False</td>\n",
       "</tr>\n",
       "<tr>\n",
       "     <td>D</td>      <td>F</td>      <td>-0.2</td>   <td>-16.9948</td> <td>16.5948</td>  <td>False</td>\n",
       "</tr>\n",
       "<tr>\n",
       "     <td>D</td>   <td>Spock's</td> <td>-12.3778</td> <td>-29.1726</td>  <td>4.417</td>   <td>False</td>\n",
       "</tr>\n",
       "<tr>\n",
       "     <td>E</td>      <td>F</td>     <td>-0.1667</td> <td>-11.4897</td> <td>11.1564</td>  <td>False</td>\n",
       "</tr>\n",
       "<tr>\n",
       "     <td>E</td>   <td>Spock's</td> <td>-12.3444</td> <td>-23.6675</td> <td>-1.0214</td>  <td>True</td> \n",
       "</tr>\n",
       "<tr>\n",
       "     <td>F</td>   <td>Spock's</td> <td>-12.1778</td> <td>-22.3054</td> <td>-2.0501</td>  <td>True</td> \n",
       "</tr>\n",
       "</table>"
      ],
      "text/plain": [
       "<class 'statsmodels.iolib.table.SimpleTable'>"
      ]
     },
     "execution_count": 9,
     "metadata": {},
     "output_type": "execute_result"
    }
   ],
   "source": [
    "from statsmodels.stats.multicomp import pairwise_tukeyhsd\n",
    "\n",
    "result = pairwise_tukeyhsd(data['pct_women'], data['judge'])\n",
    "result.summary()"
   ]
  },
  {
   "cell_type": "markdown",
   "metadata": {},
   "source": [
    "# Nonparametric test - Kruskal-Wallis"
   ]
  },
  {
   "cell_type": "code",
   "execution_count": 10,
   "metadata": {},
   "outputs": [
    {
     "name": "stdout",
     "output_type": "stream",
     "text": [
      "test statisic:  7.45588235294\n",
      "p-value: 0.00632294769581\n"
     ]
    }
   ],
   "source": [
    "a = [63.8, 56.4, 55.2, 58.5, 64.0, 51.6, 54.6, 71.0]\n",
    "b = [75.5, 83.9, 75.7, 72.5, 56.2, 73.4, 67.7, 87.9]\n",
    "\n",
    "tstat, pvalue = stats.mstats.kruskalwallis(a, b)\n",
    "print('test statisic: ', tstat)\n",
    "print('p-value:', pvalue)"
   ]
  },
  {
   "cell_type": "markdown",
   "metadata": {},
   "source": [
    "# Bonferroni Correction \n",
    "we can run t-tests on all pairs, calculate the p-values and apply one of the p-value corrections for multiple testing problems.\n",
    "\n",
    "The simplest—and at the same time quite conservative—approach is to divide the required p-value by the number of tests that we do (Bonferroni correction). For example, if you perform four comparisons, you check for significance not at p D 0:05, but at p D 0:05=4 D 0:0125.\n",
    "\n",
    "\n",
    "While multiple testing is not yet included in Python standardly, you can get a number of multiple-testing corrections done with the statsmodels package:\n"
   ]
  },
  {
   "cell_type": "code",
   "execution_count": 27,
   "metadata": {
    "scrolled": true
   },
   "outputs": [
    {
     "data": {
      "text/plain": [
       "(array([False, False,  True], dtype=bool),\n",
       " array([ 0.15,  0.9 ,  0.03]),\n",
       " 0.016952427508441503,\n",
       " 0.016666666666666666)"
      ]
     },
     "execution_count": 27,
     "metadata": {},
     "output_type": "execute_result"
    }
   ],
   "source": [
    "from statsmodels.sandbox.stats.multicomp import multipletests\n",
    "\n",
    "result = multipletests([.05, 0.3, 0.01], method='bonferroni')\n",
    "reject, pvals_corrected, alphacSidak, alphacBonf = result\n",
    "(reject, pvals_corrected, alphacSidak, alphacBonf)"
   ]
  },
  {
   "cell_type": "code",
   "execution_count": 11,
   "metadata": {
    "collapsed": true
   },
   "outputs": [],
   "source": [
    "stats.ttest_ind?"
   ]
  },
  {
   "cell_type": "code",
   "execution_count": 33,
   "metadata": {},
   "outputs": [
    {
     "data": {
      "text/plain": [
       "(array([ True,  True,  True, False, False,  True, False, False, False,\n",
       "        False, False, False, False, False, False, False, False, False,\n",
       "        False, False, False], dtype=bool),\n",
       " array([  1.97069338e-02,   5.38870338e-04,   1.94941104e-04,\n",
       "          2.20478320e-01,   9.54741077e-02,   5.30243108e-03,\n",
       "          1.00000000e+00,   1.00000000e+00,   1.00000000e+00,\n",
       "          1.00000000e+00,   1.00000000e+00,   1.00000000e+00,\n",
       "          1.00000000e+00,   1.00000000e+00,   1.00000000e+00,\n",
       "          1.00000000e+00,   1.00000000e+00,   1.00000000e+00,\n",
       "          1.00000000e+00,   1.00000000e+00,   1.00000000e+00]),\n",
       " 0.0024395572596688231,\n",
       " 0.002380952380952381)"
      ]
     },
     "execution_count": 33,
     "metadata": {},
     "output_type": "execute_result"
    }
   ],
   "source": [
    "from itertools import combinations\n",
    "from scipy import stats\n",
    "\n",
    "groups = data['judge'].unique()\n",
    "pvalues = []\n",
    "for judge1, judge2 in combinations(groups, 2):\n",
    "    gr1 = data[data['judge']==judge1]['pct_women']\n",
    "    gr2 = data[data['judge']==judge2]['pct_women']\n",
    "    tstat, pvalue = stats.ttest_ind(gr1, gr2, )\n",
    "\n",
    "    pvalues.append(pvalue)\n",
    "multipletests(pvalues, method='bonferroni')"
   ]
  },
  {
   "cell_type": "code",
   "execution_count": 39,
   "metadata": {},
   "outputs": [
    {
     "data": {
      "text/plain": [
       "[(\"Spock's\", 'A'),\n",
       " (\"Spock's\", 'B'),\n",
       " (\"Spock's\", 'C'),\n",
       " (\"Spock's\", 'D'),\n",
       " (\"Spock's\", 'E'),\n",
       " (\"Spock's\", 'F'),\n",
       " ('A', 'B'),\n",
       " ('A', 'C'),\n",
       " ('A', 'D'),\n",
       " ('A', 'E'),\n",
       " ('A', 'F'),\n",
       " ('B', 'C'),\n",
       " ('B', 'D'),\n",
       " ('B', 'E'),\n",
       " ('B', 'F'),\n",
       " ('C', 'D'),\n",
       " ('C', 'E'),\n",
       " ('C', 'F'),\n",
       " ('D', 'E'),\n",
       " ('D', 'F'),\n",
       " ('E', 'F')]"
      ]
     },
     "execution_count": 39,
     "metadata": {},
     "output_type": "execute_result"
    }
   ],
   "source": [
    "list(combinations(groups, 2))"
   ]
  },
  {
   "cell_type": "code",
   "execution_count": 96,
   "metadata": {},
   "outputs": [
    {
     "name": "stdout",
     "output_type": "stream",
     "text": [
      "-0.0888870152252 0.931118241441\n"
     ]
    }
   ],
   "source": [
    "gr1 = data[data['judge']=='B']['pct_women']\n",
    "gr2 = data[data['judge']=='A']['pct_women']\n",
    "tstat, pvalue = stats.ttest_ind(gr1, gr2)\n",
    "\n",
    "print(tstat, pvalue)"
   ]
  },
  {
   "cell_type": "code",
   "execution_count": 83,
   "metadata": {},
   "outputs": [
    {
     "data": {
      "text/plain": [
       "0.9048768138396502"
      ]
     },
     "execution_count": 83,
     "metadata": {},
     "output_type": "execute_result"
    }
   ],
   "source": [
    "0.931118241441 / 1.029"
   ]
  },
  {
   "cell_type": "code",
   "execution_count": 71,
   "metadata": {},
   "outputs": [
    {
     "data": {
      "text/plain": [
       "0.9049"
      ]
     },
     "execution_count": 71,
     "metadata": {},
     "output_type": "execute_result"
    }
   ],
   "source": [
    "0.9049"
   ]
  },
  {
   "cell_type": "code",
   "execution_count": 69,
   "metadata": {},
   "outputs": [
    {
     "data": {
      "text/plain": [
       "F_onewayResult(statistic=18.956195733655658, pvalue=0.00093842542047052331)"
      ]
     },
     "execution_count": 69,
     "metadata": {},
     "output_type": "execute_result"
    }
   ],
   "source": [
    "stats.f_oneway(data[data['judge']=='Spock\\'s']['pct_women'], data[data['judge']=='A']['pct_women'])"
   ]
  },
  {
   "cell_type": "code",
   "execution_count": 95,
   "metadata": {},
   "outputs": [
    {
     "data": {
      "text/plain": [
       "(array([False, False, False, False, False, False, False, False, False,\n",
       "        False, False, False, False, False, False, False, False, False,\n",
       "        False, False, False], dtype=bool),\n",
       " array([ 0.97767415,  0.97767415,  0.97767415,  0.97767415,  0.97767415,\n",
       "         0.97767415,  0.97767415,  0.97767415,  0.97767415,  0.97767415,\n",
       "         0.97767415,  0.97767415,  0.97767415,  0.97767415,  0.97767415,\n",
       "         0.97767415,  0.97767415,  0.97767415,  0.97767415,  0.97767415,\n",
       "         0.97767415]),\n",
       " 0.0024395572596688231,\n",
       " 0.002380952380952381)"
      ]
     },
     "execution_count": 95,
     "metadata": {},
     "output_type": "execute_result"
    }
   ],
   "source": [
    "multipletests([0.931118241441]*21, method='fdr_tsbky')"
   ]
  },
  {
   "cell_type": "code",
   "execution_count": 65,
   "metadata": {},
   "outputs": [
    {
     "data": {
      "text/plain": [
       "0.9804769065388116"
      ]
     },
     "execution_count": 65,
     "metadata": {},
     "output_type": "execute_result"
    }
   ],
   "source": [
    "(1 - 0.000938425420471) ** 21"
   ]
  },
  {
   "cell_type": "code",
   "execution_count": 49,
   "metadata": {
    "collapsed": true
   },
   "outputs": [],
   "source": [
    "import statsmodels.stats as sm_stats\n",
    "\n",
    "sm_stats.weightstats.ttest_ind?"
   ]
  },
  {
   "cell_type": "code",
   "execution_count": 67,
   "metadata": {},
   "outputs": [
    {
     "data": {
      "text/plain": [
       "(array([ True], dtype=bool), array([ 0.01]), 0.050000000000000044, 0.05)"
      ]
     },
     "execution_count": 67,
     "metadata": {},
     "output_type": "execute_result"
    }
   ],
   "source": [
    "import statsmodels.stats.multitest as smm\n",
    "smm.multipletests(.01)"
   ]
  },
  {
   "cell_type": "code",
   "execution_count": 85,
   "metadata": {
    "collapsed": true
   },
   "outputs": [],
   "source": [
    "multipletests?"
   ]
  },
  {
   "cell_type": "code",
   "execution_count": null,
   "metadata": {
    "collapsed": true
   },
   "outputs": [],
   "source": [
    "    `bonferroni` : one-step correction\n",
    "    `sidak` : one-step correction\n",
    "    `holm-sidak` : step down method using Sidak adjustments\n",
    "    `holm` : step-down method using Bonferroni adjustments\n",
    "    `simes-hochberg` : step-up method  (independent)\n",
    "    `hommel` : closed method based on Simes tests (non-negative)\n",
    "    `fdr_bh` : Benjamini/Hochberg  (non-negative)\n",
    "    `fdr_by` : Benjamini/Yekutieli (negative)\n",
    "    `fdr_tsbh` : two stage fdr correction (non-negative)\n",
    "    `fdr_tsbky` : two stage fdr correction (non-negative)"
   ]
  }
 ],
 "metadata": {
  "kernelspec": {
   "display_name": "Python 3",
   "language": "python",
   "name": "python3"
  },
  "language_info": {
   "codemirror_mode": {
    "name": "ipython",
    "version": 3
   },
   "file_extension": ".py",
   "mimetype": "text/x-python",
   "name": "python",
   "nbconvert_exporter": "python",
   "pygments_lexer": "ipython3",
   "version": "3.5.2"
  }
 },
 "nbformat": 4,
 "nbformat_minor": 2
}
